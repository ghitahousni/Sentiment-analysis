{
 "cells": [
  {
   "cell_type": "markdown",
   "id": "351d30fa-312a-4295-83b9-b081d37952bb",
   "metadata": {},
   "source": [
    "# Theory and Applications of Data Analytics (LDSCI7236)\n",
    "\n",
    "### AE2 Sentiment \n",
    "\n",
    "#### Student ID: 23220052"
   ]
  },
  {
   "cell_type": "markdown",
   "id": "950a62f8-286d-45a5-a468-bf0f00703641",
   "metadata": {},
   "source": [
    "## I - Exploratory data analysis (30 marks)."
   ]
  },
  {
   "cell_type": "markdown",
   "id": "4bd33836-4b1e-4dba-8ab8-52cdf26c4845",
   "metadata": {},
   "source": [
    "Before starting the assignment, we will be importing all libraries and packages required for our programme solution\n",
    "\n",
    "- \"import os\" module to use the operating system dependent functionality allowing us to interact with file systems, manipulate paths and perform operating system-related tasks. (Python documentation, 2024)\n",
    "- \"import urllib\" module to retrieve/fetch/workwith data from URLs (Python documentation, 2024)\n",
    "- \"import time\" module to work with time-related functions (Python documentation, 2024)\n",
    "- \"import csv\" module to work with Comma Separated Values files as well as read and write tabular data in CSV format (Python documentation, 2024)\n",
    "- \"import pandas as pd\" library to manipulate and analyse data (W3 School, 2024) \n",
    "- \"import numpy as np\" library to perform mathematical operations (W3 School, 2024) \n",
    "- \"import statistics\" module to calculate mathematical statistics of numeric data (Python documentation, 2024)\n",
    "- \"import seaborn as sns\" data visualization library (based on Matplotlib) to make statistical graphics, explore and understand the data (Seaborn documentation, 2024) \n",
    "- \"import matplotlib.pyplot as plt\" module to create different types of plots and charts (Matplotlib documentation, 2024)\n",
    "- \"import request\" module to allow us to send HTTP requests (SitePoint, 2024)\n",
    "- \"import zipfile\" module to create, read, write and list contents of ZIP archives/files (Real Python, 2023)\n",
    "- \"import re\" module to provide regular expression matching operations(Re, 2024) \n",
    "- \"import pickle\" module for serializing and deserializing Python objects (Python documentation, 2024)\n",
    "- \"from sklearn.feature_extraction.text import TfidfVectorizer\" to convert a collection of raw documents to a matrix of TF-IDF features (scikit, 2024)\n",
    "- \"from sklearn.linear_model import LogisticRegression\" to use Logistic Regression classifier (scikit, 2024)\n",
    "- \"from sklearn.model_selection import train_test_split\" to split arrays or matrices into random train and test subsets (scikit, 2024)\n",
    "- \"from sklearn.naive_bayes import MultinomialNB\" to use Naive Bayes classifier for multinomial models (scikit, 2024)\n",
    "- \"from sklearn.metrics import classification_report\" to build a text report showing the main classification metrics (scikit, 2024)\n",
    "- \"from sklearn.feature_extraction.text import CountVectorizer\" to convert a collection of text documents to a matrix of token counts (scikit, 2024)\n",
    "- \"from sklearn.metrics import accuracy_score\" for accuracy classification score (scikit, 2024)"
   ]
  },
  {
   "cell_type": "code",
   "execution_count": 1,
   "id": "541e3b7f-a238-4326-ad4d-ac1936995d04",
   "metadata": {
    "tags": []
   },
   "outputs": [],
   "source": [
    "#We first import all libraries and packages \n",
    "\n",
    "import os \n",
    "import urllib\n",
    "import time \n",
    "import csv\n",
    "import pandas as pd\n",
    "import numpy as np\n",
    "import statistics \n",
    "import seaborn as sns \n",
    "import matplotlib.pyplot as plt\n",
    "import requests\n",
    "import zipfile\n",
    "import re\n",
    "import pickle\n",
    "from sklearn.feature_extraction.text import TfidfVectorizer\n",
    "from sklearn.linear_model import LogisticRegression\n",
    "from sklearn.model_selection import train_test_split\n",
    "from sklearn.naive_bayes import MultinomialNB\n",
    "from sklearn.metrics import classification_report\n",
    "from sklearn.feature_extraction.text import CountVectorizer\n",
    "from sklearn.metrics import accuracy_score"
   ]
  },
  {
   "cell_type": "markdown",
   "id": "66f3dba4-6e0c-4f29-8ad3-3943a52bfb19",
   "metadata": {},
   "source": [
    "To perform an exploratory data analysis (EDA) on the SST-2 dataset, we need to start by loading and examining the data from our files of interest : the train.tsv and dev.tsv files. "
   ]
  },
  {
   "cell_type": "markdown",
   "id": "65488fa2-bd8e-4e22-857a-62dd4bd2487f",
   "metadata": {},
   "source": [
    "#### a) Explore the distribution of positive and negative reviews in the SST-2 dataset. "
   ]
  },
  {
   "cell_type": "markdown",
   "id": "bd66b94a-b4a4-445a-bbab-b9aa7cc978a0",
   "metadata": {},
   "source": [
    "In order to explore the distribution of positive and negative reviews in the SST-2 dataset, we develop a code to process the downloading, extracting, and preparing of SST-2 dataset for further use."
   ]
  },
  {
   "cell_type": "code",
   "execution_count": 2,
   "id": "bb095adc-f8b0-4d8c-8021-7fd9f44d892e",
   "metadata": {
    "tags": []
   },
   "outputs": [
    {
     "name": "stdout",
     "output_type": "stream",
     "text": [
      "SST-2 dataset downloaded successfully.\n"
     ]
    }
   ],
   "source": [
    "#URL of the SST-2 dataset\n",
    "sst_url = \"https://dl.fbaipublicfiles.com/glue/data/SST-2.zip\"\n",
    "\n",
    "#We then send an HTTP GET request to download the SST-2 dataset\n",
    "response = requests.get(sst_url)\n",
    "\n",
    "#We check if the request was successful (status code 200)\n",
    "if response.status_code == 200:\n",
    "    #We open a file in binary write mode to save the downloaded dataset\n",
    "    with open(\"SST-2.zip\", \"wb\") as f:\n",
    "        #We write the contents of the response to the file\n",
    "        f.write(response.content)\n",
    "    #We print message indicating successful download\n",
    "    print(\"SST-2 dataset downloaded successfully.\")\n",
    "else:\n",
    "    #Or a message indicating failure to download with status code\n",
    "    print(\"Failed to download SST-2 dataset. Status code:\", response.status_code)\n",
    "\n",
    "#We extract the contents of the downloaded ZIP file\n",
    "with zipfile.ZipFile(\"SST-2.zip\", \"r\") as zip_ref:\n",
    "    #We extract all contents to a directory named \"SST-2\"\n",
    "    zip_ref.extractall(\"SST-2\")\n",
    "\n",
    "#Finally, we define file paths for training and development sets\n",
    "train_path = os.path.join(\"SST-2\", \"SST-2\", \"train.tsv\")\n",
    "dev_path = os.path.join(\"SST-2\", \"SST-2\", \"dev.tsv\")\n"
   ]
  },
  {
   "cell_type": "markdown",
   "id": "7296cd50-e4e3-49f8-9419-3de13fcaaddc",
   "metadata": {
    "tags": []
   },
   "source": [
    "##### Code explanation: \n",
    "\n",
    "The above code aims to download our dataset SST-2 (Stanford Sentiment Treebank 2) from a given URL, extract its contents, and then define file paths for its training and development sets. We first assign to our variable \"sst_url\" the URL where the SST-2 dataset is located. Then, using \"requests.get(sst_url)\", we send an HTTP GET request to our specified URL to retrieve the dataset. In a for loop, we check whether the HTTP request was successful (status code 200). If it is successful, the code proceeds to saving the dataset to a file named \"SST-2.zip\". Then, we ask the code to open the previous file in write mode. Please, note that \"f.write(response.content)\" writes the contents of the HTTP response to the file. Then, we ask the code to create a ZipFile object to work on the donwloaded ZIP file. All its content is extracted into a directory \"SST-2\" in our current notebook. Finally, we define the paths for our training and development set within the extracted dataset. "
   ]
  },
  {
   "cell_type": "markdown",
   "id": "ad2276d8-41f2-4669-9d7f-c86bf9a02a28",
   "metadata": {},
   "source": [
    "Then, we need to convert the tab-separated training and development datasets into CSV format and saves them as separate files."
   ]
  },
  {
   "cell_type": "code",
   "execution_count": 3,
   "id": "3ec639b3-ad39-40a3-9011-3b8dd3d9bf75",
   "metadata": {
    "tags": []
   },
   "outputs": [
    {
     "name": "stdout",
     "output_type": "stream",
     "text": [
      "Train and dev datasets saved as CSV files successfully.\n"
     ]
    }
   ],
   "source": [
    "#We load train.tsv and dev.tsv into Dataframes\n",
    "\n",
    "#We first read the train.tsv file into a dataframe\n",
    "train_df = pd.read_csv(os.path.join(\"SST-2\", \"SST-2\", \"train.tsv\"), sep='\\t')\n",
    "\n",
    "#We then read the dev.tsv file into another dataframe\n",
    "dev_df = pd.read_csv(os.path.join(\"SST-2\", \"SST-2\", \"dev.tsv\"), sep='\\t')\n",
    "\n",
    "#We then want to save train.tsv and dev.tsv as CSV files\n",
    "\n",
    "#We save train_df as CSV file named \"train.csv\" \n",
    "train_df.to_csv(\"train.csv\", index=False)\n",
    "\n",
    "#We save dev_df as CSV file named \"dev.csv\" \n",
    "dev_df.to_csv(\"dev.csv\", index=False)\n",
    "\n",
    "#We finally print a message confirming the successful saving of datasets as CSV files\n",
    "print(\"Train and dev datasets saved as CSV files successfully.\")"
   ]
  },
  {
   "cell_type": "markdown",
   "id": "53197534-0ba1-4d5f-a2c8-c517bd6159fd",
   "metadata": {
    "tags": []
   },
   "source": [
    "##### Code explanation: \n",
    "\n",
    "The above code aims to load the training and development datasets (train.tsv and dev.tsv, respectively) into dataframes from their respective file paths. Once done, it saves them as CSV files (train.csv and dev.csv, respectively). We first use \"pd.read_csv(os.path.join(\"SST-2\", \"SST-2\", \"train.tsv\"), sep='\\t')\" to read the train.tsv file into a dataframe, by creating the file path from the \"SST-2\", \"train.tsv\", and \"sep='\\t'\" which specifies that the data is tab-separated. We do the same for the dev.tsv file, so it reads it into another dataframe. Then, we save our train_df and dev_df respectively as separated CSV files. The \"index=False\" argument specifies that the index of the dataframes should not be saved to the CSV file. Finally, we print a message confirming that the datasets have been successfully saved as CSV files."
   ]
  },
  {
   "cell_type": "markdown",
   "id": "4629a2d4-5c45-4379-b2bd-05f0ab71f056",
   "metadata": {},
   "source": [
    "Now we have our two dataframes as per the below "
   ]
  },
  {
   "cell_type": "code",
   "execution_count": 4,
   "id": "1e9770c2-4008-4d7e-b1b1-1d438975e1e0",
   "metadata": {
    "tags": []
   },
   "outputs": [
    {
     "data": {
      "text/html": [
       "<div>\n",
       "<style scoped>\n",
       "    .dataframe tbody tr th:only-of-type {\n",
       "        vertical-align: middle;\n",
       "    }\n",
       "\n",
       "    .dataframe tbody tr th {\n",
       "        vertical-align: top;\n",
       "    }\n",
       "\n",
       "    .dataframe thead th {\n",
       "        text-align: right;\n",
       "    }\n",
       "</style>\n",
       "<table border=\"1\" class=\"dataframe\">\n",
       "  <thead>\n",
       "    <tr style=\"text-align: right;\">\n",
       "      <th></th>\n",
       "      <th>sentence</th>\n",
       "      <th>label</th>\n",
       "    </tr>\n",
       "  </thead>\n",
       "  <tbody>\n",
       "    <tr>\n",
       "      <th>0</th>\n",
       "      <td>hide new secretions from the parental units</td>\n",
       "      <td>0</td>\n",
       "    </tr>\n",
       "    <tr>\n",
       "      <th>1</th>\n",
       "      <td>contains no wit , only labored gags</td>\n",
       "      <td>0</td>\n",
       "    </tr>\n",
       "    <tr>\n",
       "      <th>2</th>\n",
       "      <td>that loves its characters and communicates som...</td>\n",
       "      <td>1</td>\n",
       "    </tr>\n",
       "    <tr>\n",
       "      <th>3</th>\n",
       "      <td>remains utterly satisfied to remain the same t...</td>\n",
       "      <td>0</td>\n",
       "    </tr>\n",
       "    <tr>\n",
       "      <th>4</th>\n",
       "      <td>on the worst revenge-of-the-nerds clichés the ...</td>\n",
       "      <td>0</td>\n",
       "    </tr>\n",
       "    <tr>\n",
       "      <th>...</th>\n",
       "      <td>...</td>\n",
       "      <td>...</td>\n",
       "    </tr>\n",
       "    <tr>\n",
       "      <th>67344</th>\n",
       "      <td>a delightful comedy</td>\n",
       "      <td>1</td>\n",
       "    </tr>\n",
       "    <tr>\n",
       "      <th>67345</th>\n",
       "      <td>anguish , anger and frustration</td>\n",
       "      <td>0</td>\n",
       "    </tr>\n",
       "    <tr>\n",
       "      <th>67346</th>\n",
       "      <td>at achieving the modest , crowd-pleasing goals...</td>\n",
       "      <td>1</td>\n",
       "    </tr>\n",
       "    <tr>\n",
       "      <th>67347</th>\n",
       "      <td>a patient viewer</td>\n",
       "      <td>1</td>\n",
       "    </tr>\n",
       "    <tr>\n",
       "      <th>67348</th>\n",
       "      <td>this new jangle of noise , mayhem and stupidit...</td>\n",
       "      <td>0</td>\n",
       "    </tr>\n",
       "  </tbody>\n",
       "</table>\n",
       "<p>67349 rows × 2 columns</p>\n",
       "</div>"
      ],
      "text/plain": [
       "                                                sentence  label\n",
       "0           hide new secretions from the parental units       0\n",
       "1                   contains no wit , only labored gags       0\n",
       "2      that loves its characters and communicates som...      1\n",
       "3      remains utterly satisfied to remain the same t...      0\n",
       "4      on the worst revenge-of-the-nerds clichés the ...      0\n",
       "...                                                  ...    ...\n",
       "67344                               a delightful comedy       1\n",
       "67345                   anguish , anger and frustration       0\n",
       "67346  at achieving the modest , crowd-pleasing goals...      1\n",
       "67347                                  a patient viewer       1\n",
       "67348  this new jangle of noise , mayhem and stupidit...      0\n",
       "\n",
       "[67349 rows x 2 columns]"
      ]
     },
     "execution_count": 4,
     "metadata": {},
     "output_type": "execute_result"
    }
   ],
   "source": [
    "train_df"
   ]
  },
  {
   "cell_type": "code",
   "execution_count": 5,
   "id": "90333308-6dee-4b27-870f-d629470afb60",
   "metadata": {
    "tags": []
   },
   "outputs": [
    {
     "data": {
      "text/html": [
       "<div>\n",
       "<style scoped>\n",
       "    .dataframe tbody tr th:only-of-type {\n",
       "        vertical-align: middle;\n",
       "    }\n",
       "\n",
       "    .dataframe tbody tr th {\n",
       "        vertical-align: top;\n",
       "    }\n",
       "\n",
       "    .dataframe thead th {\n",
       "        text-align: right;\n",
       "    }\n",
       "</style>\n",
       "<table border=\"1\" class=\"dataframe\">\n",
       "  <thead>\n",
       "    <tr style=\"text-align: right;\">\n",
       "      <th></th>\n",
       "      <th>sentence</th>\n",
       "      <th>label</th>\n",
       "    </tr>\n",
       "  </thead>\n",
       "  <tbody>\n",
       "    <tr>\n",
       "      <th>0</th>\n",
       "      <td>it 's a charming and often affecting journey .</td>\n",
       "      <td>1</td>\n",
       "    </tr>\n",
       "    <tr>\n",
       "      <th>1</th>\n",
       "      <td>unflinchingly bleak and desperate</td>\n",
       "      <td>0</td>\n",
       "    </tr>\n",
       "    <tr>\n",
       "      <th>2</th>\n",
       "      <td>allows us to hope that nolan is poised to emba...</td>\n",
       "      <td>1</td>\n",
       "    </tr>\n",
       "    <tr>\n",
       "      <th>3</th>\n",
       "      <td>the acting , costumes , music , cinematography...</td>\n",
       "      <td>1</td>\n",
       "    </tr>\n",
       "    <tr>\n",
       "      <th>4</th>\n",
       "      <td>it 's slow -- very , very slow .</td>\n",
       "      <td>0</td>\n",
       "    </tr>\n",
       "    <tr>\n",
       "      <th>...</th>\n",
       "      <td>...</td>\n",
       "      <td>...</td>\n",
       "    </tr>\n",
       "    <tr>\n",
       "      <th>867</th>\n",
       "      <td>has all the depth of a wading pool .</td>\n",
       "      <td>0</td>\n",
       "    </tr>\n",
       "    <tr>\n",
       "      <th>868</th>\n",
       "      <td>a movie with a real anarchic flair .</td>\n",
       "      <td>1</td>\n",
       "    </tr>\n",
       "    <tr>\n",
       "      <th>869</th>\n",
       "      <td>a subject like this should inspire reaction in...</td>\n",
       "      <td>0</td>\n",
       "    </tr>\n",
       "    <tr>\n",
       "      <th>870</th>\n",
       "      <td>... is an arthritic attempt at directing by ca...</td>\n",
       "      <td>0</td>\n",
       "    </tr>\n",
       "    <tr>\n",
       "      <th>871</th>\n",
       "      <td>looking aristocratic , luminous yet careworn i...</td>\n",
       "      <td>1</td>\n",
       "    </tr>\n",
       "  </tbody>\n",
       "</table>\n",
       "<p>872 rows × 2 columns</p>\n",
       "</div>"
      ],
      "text/plain": [
       "                                              sentence  label\n",
       "0      it 's a charming and often affecting journey .       1\n",
       "1                   unflinchingly bleak and desperate       0\n",
       "2    allows us to hope that nolan is poised to emba...      1\n",
       "3    the acting , costumes , music , cinematography...      1\n",
       "4                    it 's slow -- very , very slow .       0\n",
       "..                                                 ...    ...\n",
       "867              has all the depth of a wading pool .       0\n",
       "868              a movie with a real anarchic flair .       1\n",
       "869  a subject like this should inspire reaction in...      0\n",
       "870  ... is an arthritic attempt at directing by ca...      0\n",
       "871  looking aristocratic , luminous yet careworn i...      1\n",
       "\n",
       "[872 rows x 2 columns]"
      ]
     },
     "execution_count": 5,
     "metadata": {},
     "output_type": "execute_result"
    }
   ],
   "source": [
    "dev_df"
   ]
  },
  {
   "cell_type": "markdown",
   "id": "cdadfeea-0957-41d0-b10e-79276e2f6212",
   "metadata": {},
   "source": [
    "Note 1: Upon reviewing our movie reviews dataset, we observed that the 'sentence' column contains punctuation, capital letters, and numeric values. Initially, we considered preprocessing and cleaning our data to address these elements. However, after careful consideration and examination of our CSV files, we determined that such preprocessing is unnecessary. Since our data will undergo tokenization during at a later phase, these elements would not significantly impact our results. Moreover, we also noticed the absence of missing labels and duplicates in our dataset. Therefore, we decided to proceed with the assignment without preprocessing the data, as we found no benefit to doing so. "
   ]
  },
  {
   "cell_type": "markdown",
   "id": "79abe5e6-a6a6-43d1-acd1-3e3e0cdafb8d",
   "metadata": {},
   "source": [
    "Now, from our above dataframes (train_df and dev_df), we will explore the positive and negative reviews for each dataframe respectively. "
   ]
  },
  {
   "cell_type": "markdown",
   "id": "6aeab7ed-c935-418c-b5ba-005a3462bebc",
   "metadata": {},
   "source": [
    "For train_df : "
   ]
  },
  {
   "cell_type": "code",
   "execution_count": 6,
   "id": "4fffb0d5-7c64-485a-bde6-90c6547974a6",
   "metadata": {
    "tags": []
   },
   "outputs": [
    {
     "data": {
      "image/png": "[encoded data removed]",
      "text/plain": [
       "<Figure size 800x600 with 1 Axes>"
      ]
     },
     "metadata": {},
     "output_type": "display_data"
    },
    {
     "name": "stdout",
     "output_type": "stream",
     "text": [
      "Number of positive reviews: 37569\n",
      "Number of negative reviews: 29780\n"
     ]
    }
   ],
   "source": [
    "#We calculate the count of each unique value in the 'label' column\n",
    "sentiment_counts_train = train_df['label'].value_counts()\n",
    "\n",
    "#We plot the distribution of sentiment labels\n",
    "#We set the figure size\n",
    "plt.figure(figsize=(8, 6))\n",
    "#We create a bar plot of sentiment label counts, with colors representing negative and positive sentiments\n",
    "sentiment_counts_train.plot(kind='bar', color=['red', 'green'])\n",
    "#We set plot title, x-axis label, and y-axis label\n",
    "plt.title('Figure 1: Distribution of Sentiment Labels in Train Dataset')\n",
    "plt.xlabel('Sentiment Label')\n",
    "plt.ylabel('Count')\n",
    "#Then, we set x-axis tick labels and their positions\n",
    "plt.xticks(ticks=[0, 1], labels=['Negative', 'Positive'], rotation=0)\n",
    "#Finally, we show the plot\n",
    "plt.show()\n",
    "\n",
    "#Then, we print the count of positive and negative reviews\n",
    "#We access the count of positive sentiment reviews and print\n",
    "print(\"Number of positive reviews:\", sentiment_counts_train[1])\n",
    "#Then, we access the count of negative sentiment reviews and print\n",
    "print(\"Number of negative reviews:\", sentiment_counts_train[0])"
   ]
  },
  {
   "cell_type": "markdown",
   "id": "9630e3ac-d382-4b19-a366-626589f33cc6",
   "metadata": {
    "tags": []
   },
   "source": [
    "##### Code explanation: \n",
    "\n",
    "The above code performs data exploration and visualization on our training dataset (train_df). By using the \"train_df['label'].value_counts()\", this code calculates the count of each unique value in the 'label' column of the train_df dataframe. It provides insight into the distribution of sentiment labels (presumably positive (1) and negative (0)) in our dataset. Then, we ask the code to create a bar plot where sentiment labels are represented on the x-axis and their corresponding counts are represented on the y-axis. The colors red and green correspond to negative and positive sentiments, respectively. Finally, we ask the code to print the count of positive and negative sentiment reviews, respectively, based on the calculated sentiment counts stored in the sentiment_counts_train variable."
   ]
  },
  {
   "cell_type": "markdown",
   "id": "58c93bde-8d75-49aa-b070-b1f4d8861757",
   "metadata": {
    "tags": []
   },
   "source": [
    "##### Discussion: \n",
    "\n",
    "From the above illustration, we notice that there are 37569 positive reviews and 29780 negative reviews. This means that, 37569 sentences or reviews are labelled as 1 (positive) while 29780 are labelled as 0 (negative). The above information provides insight into the distribution of sentiment labels in our training dataset. It suggests that there are more positive reviews than negative ones. Therefore, we can conclude that the movie had a more positive reception. \n",
    "\n",
    "However, we notice that there is an unequal distribution of positive and negative reviews which can suggest an imbalance in the training dataset. This can ulterly impact the training and performance of the model in a sentiment analysis task. Therefore, it is crucial to account for this disparity during model evaluation and selection to ensure the reliability and effectiveness of sentiment analysis results."
   ]
  },
  {
   "cell_type": "markdown",
   "id": "035945d3-b146-4f24-bea8-6702f6c31fb3",
   "metadata": {},
   "source": [
    "Now, we do exactly the same for dev_df"
   ]
  },
  {
   "cell_type": "code",
   "execution_count": 7,
   "id": "cc291050-eded-4ee5-9665-9d38f68d1ac1",
   "metadata": {
    "tags": []
   },
   "outputs": [
    {
     "data": {
      "image/png": "[encoded data removed]",
      "text/plain": [
       "<Figure size 800x600 with 1 Axes>"
      ]
     },
     "metadata": {},
     "output_type": "display_data"
    },
    {
     "name": "stdout",
     "output_type": "stream",
     "text": [
      "Number of positive reviews: 444\n",
      "Number of negative reviews: 428\n"
     ]
    }
   ],
   "source": [
    "#We calculate the count of each unique value in the 'label' column\n",
    "sentiment_counts_dev = dev_df['label'].value_counts()\n",
    "\n",
    "#We plot the distribution of sentiment labels\n",
    "#We set the figure size\n",
    "plt.figure(figsize=(8, 6))\n",
    "#We create a bar plot of sentiment label counts, with colors representing negative and positive sentiments\n",
    "sentiment_counts_dev.plot(kind='bar', color=['red', 'green'])\n",
    "#We set plot title, x-axis label, and y-axis label\n",
    "plt.title('Figure 2: Distribution of Sentiment Labels in Dev Dataset')\n",
    "plt.xlabel('Sentiment Label')\n",
    "plt.ylabel('Count')\n",
    "#Then, we set x-axis tick labels and their positions\n",
    "plt.xticks(ticks=[0, 1], labels=['Negative', 'Positive'], rotation=0)\n",
    "#Finally, we show the plot\n",
    "plt.show()\n",
    "\n",
    "#Then, we print the count of positive and negative reviews\n",
    "#We access the count of positive sentiment reviews and print\n",
    "print(\"Number of positive reviews:\", sentiment_counts_dev[1])\n",
    "#Then, we access the count of negative sentiment reviews and print\n",
    "print(\"Number of negative reviews:\", sentiment_counts_dev[0])"
   ]
  },
  {
   "cell_type": "markdown",
   "id": "a7c3d2e3-d2f8-44c6-9843-dbeb3b2490b1",
   "metadata": {
    "tags": []
   },
   "source": [
    "##### Code explanation: \n",
    "\n",
    "The above code performs data exploration and visualization on our development dataset (dev_df). By using the \"dev_df['label'].value_counts()\", this code calculates the count of each unique value in the 'label' column of the dev_df dataframe. It provides insight into the distribution of sentiment labels (presumably positive (1) and negative (0)) in our dataset. Then, we ask the code to create a bar plot where sentiment labels are represented on the x-axis and their corresponding counts are represented on the y-axis. The colors red and green correspond to negative and positive sentiments, respectively. Finally, we ask the code to print the count of positive and negative sentiment reviews, respectively, based on the calculated sentiment counts stored in the sentiment_counts_dev variable."
   ]
  },
  {
   "cell_type": "markdown",
   "id": "b30685de-2794-46c3-91a3-22dcff8b9307",
   "metadata": {
    "tags": []
   },
   "source": [
    "##### Discussion: \n",
    "\n",
    "From the above illustration, we notice that there are 444 positive reviews and 428 negative reviews. This means that, 444 sentences or reviews are labelled as 1 (positive) while 428 are labelled as 0 (negative). The above information provides insight into the distribution of sentiment labels in our development dataset. It suggests that there are more positive reviews than negative ones. Therefore, we can conclude that the movie had a more positive reception, which aligns with the outcome of our training dataset. \n",
    "\n",
    "However, we notice that there is an unequal distribution of positive and negative reviews which can suggest an imbalance in the training dataset. This can ulterly impact the training and performance of the model in a sentiment analysis task. Therefore, it is crucial to account for this disparity during model evaluation and selection to ensure the reliability and effectiveness of sentiment analysis results.\n",
    "\n",
    "Finally, we notice that there is a difference in the count of positive and negative reviews for both datasets. This can be explained by the size of datasets. Indeed, our training dataset is larger than our development dataset which explains the smaller count of positive and negative reviews in our development dataset. "
   ]
  },
  {
   "cell_type": "markdown",
   "id": "9c8ef04d-3933-42d6-92fd-4dc661c1d7c5",
   "metadata": {},
   "source": [
    "#### b) Identify any data imbalances."
   ]
  },
  {
   "cell_type": "markdown",
   "id": "45215f54-2782-4f3b-942f-4dbcf3ed2a87",
   "metadata": {},
   "source": [
    "As per the above, we noticed that there is an imbalance in the size of our datasets as well as in their size of positive and negative reviews respectively. In this section, we aim to identify these data imbalances to get insights into the distribution of labels across both the training and development datasets, in order to understand the balance or imbalance of classes within each dataset."
   ]
  },
  {
   "cell_type": "markdown",
   "id": "8bdde302-ae8c-4a58-8fef-28326eee0a0f",
   "metadata": {},
   "source": [
    "We first want to check the imbalances and differences between the datasets. To do that, we calculate the counts of positive and negative entries in both the training and development datasets. "
   ]
  },
  {
   "cell_type": "code",
   "execution_count": 8,
   "id": "bf2dafdf-8cbd-41e3-96bc-b8eb8f0c868d",
   "metadata": {
    "tags": []
   },
   "outputs": [
    {
     "name": "stdout",
     "output_type": "stream",
     "text": [
      "Training Data:\n",
      "Positive Entries: 37569\n",
      "Negative Entries: 29780\n",
      "Difference: 7789\n",
      "\n",
      "Development Data:\n",
      "Positive Entries: 444\n",
      "Negative Entries: 428\n",
      "Difference: 16\n"
     ]
    }
   ],
   "source": [
    "#We want to count the number of positive and negative entries in the training and development datasets\n",
    "\n",
    "#We first calculate the number of entries where 'label' column equals 1 (positive sentiment) and 0 (negative sentiment) in the training dataset\n",
    "train_positive_count = (train_df['label'] == 1).sum()\n",
    "train_negative_count = (train_df['label'] == 0).sum()\n",
    "\n",
    "#We then calculate the number of entries where 'label' column equals 1 (positive sentiment) and 0 (negative sentiment) in the development dataset\n",
    "dev_positive_count = (dev_df['label'] == 1).sum()\n",
    "dev_negative_count = (dev_df['label'] == 0).sum()\n",
    "\n",
    "#We print the counts of positive and negative entries in the training dataset\n",
    "print(\"Training Data:\")\n",
    "print(\"Positive Entries:\", train_positive_count)\n",
    "print(\"Negative Entries:\", train_negative_count)\n",
    "#And calculate and print the absolute difference between the counts of positive and negative entries in the training dataset\n",
    "print(\"Difference:\", abs(train_positive_count - train_negative_count))\n",
    "\n",
    "#We do the development dataset\n",
    "print(\"\\nDevelopment Data:\")\n",
    "print(\"Positive Entries:\", dev_positive_count)\n",
    "print(\"Negative Entries:\", dev_negative_count)\n",
    "\n",
    "print(\"Difference:\", abs(dev_positive_count - dev_negative_count))"
   ]
  },
  {
   "cell_type": "markdown",
   "id": "8e7c4d1c-e278-4880-bbea-b99e2b6aabde",
   "metadata": {},
   "source": [
    "##### Code explanation: \n",
    "\n",
    "The above code calculate the counts of positive and negative entries in both the training and development datasets. It assumes that the datasets are already loaded and that the 'label' column contains sentiment labels, with 0 representing negative sentiment and 1 representing positive sentiment. Indeed, we first calculate the number of entries in the training dataset where the 'label' column equals 1, indicating positive sentiment (stored in variable train_positive_count). It sums up all the True values resulting from the comparison. Then, we calculate the number of entries in the training dataset where the 'label' column equals 0, indicating negative sentiment (stored in train_negative_count variable). We then do the same for development dataset, where the number of positive entries is tored in dev_positive_count variable and the number of negative entries is stored in dev_negative_count variables. We finally print the results, along with the absolute difference between the counts for both training and development dataset. \n",
    "\n",
    "This way, we are able to understand the dataset characteristics before proceeding with sentiment analysis tasks. "
   ]
  },
  {
   "cell_type": "markdown",
   "id": "f3829543-2b74-4019-a8fd-15d2caae4aa3",
   "metadata": {},
   "source": [
    "Then, we want to generate a bar plot that visually compares the counts of positive and negative entries between the training and development datasets. "
   ]
  },
  {
   "cell_type": "code",
   "execution_count": 9,
   "id": "134f18d9-c9af-45b1-ae06-3f130251d8d4",
   "metadata": {
    "tags": []
   },
   "outputs": [
    {
     "data": {
      "image/png": "[encoded data removed]",
      "text/plain": [
       "<Figure size 1000x600 with 1 Axes>"
      ]
     },
     "metadata": {},
     "output_type": "display_data"
    }
   ],
   "source": [
    "#We first define labels for the x-axis categories\n",
    "train_labels = ['Positive', 'Negative']\n",
    "dev_labels = ['Positive', 'Negative']\n",
    "\n",
    "#As well as the counts of positive and negative entries in the training and development datasets\n",
    "train_counts = [train_positive_count, train_negative_count]\n",
    "dev_counts = [dev_positive_count, dev_negative_count]\n",
    "\n",
    "#We then create a figure and axis object for the plot with a specified size\n",
    "fig, ax = plt.subplots(figsize=(10, 6))\n",
    "bar_width = 0.35\n",
    "#And generate an index range for positioning the bars on the x-axis\n",
    "index = range(len(train_labels))\n",
    "\n",
    "#We then plot bars representing counts of positive and negative entries in the training dataset\n",
    "train_bars = ax.bar(index, train_counts, bar_width, label='Train Data')\n",
    "#As well as plot bars representing counts of positive and negative entries in the development dataset\n",
    "dev_bars = ax.bar([i + bar_width for i in index], dev_counts, bar_width, label='Dev Data')\n",
    "\n",
    "#We set labels for the x-axis and y-axis\n",
    "ax.set_xlabel('Sentiment')\n",
    "ax.set_ylabel('Count')\n",
    "#We set the title of the plot\n",
    "ax.set_title('Figure 3: Counts of Positive and Negative Entries in Train and Dev Data')\n",
    "#We set positions and labels for the ticks on the x-axis\n",
    "ax.set_xticks([i + bar_width / 2 for i in index])\n",
    "ax.set_xticklabels(train_labels)\n",
    "#We display the legend indicating the bars representing the training and development datasets\n",
    "ax.legend()\n",
    "\n",
    "#We add counts above bars\n",
    "for bars in [train_bars, dev_bars]:\n",
    "    for bar in bars:\n",
    "        height = bar.get_height()\n",
    "        # Add text annotations above each bar to display its count\n",
    "        ax.annotate('{}'.format(height),\n",
    "                    xy=(bar.get_x() + bar.get_width() / 2, height),\n",
    "                    xytext=(0, 3),  # 3 points vertical offset\n",
    "                    textcoords=\"offset points\",\n",
    "                    ha='center', va='bottom')\n",
    "\n",
    "#Then adjust subplot parameters to prevent overlapping\n",
    "plt.tight_layout()\n",
    "#Finally we display the plot\n",
    "plt.show()"
   ]
  },
  {
   "cell_type": "markdown",
   "id": "19cf2bf7-a886-43a1-b8ea-8caf3e8e829c",
   "metadata": {},
   "source": [
    "##### Code explanation: \n",
    "    \n",
    "The above code generates a bar plot to visualize the counts of positive and negative entries in both the training and development datasets. To do that, we first give the code train_labels and dev_labels lists that contain labels for the x-axis categories, which are 'Positive' and 'Negative' in this case. Then, we provide train_counts and dev_counts lists that contain the counts of positive and negative entries in the training and development datasets, respectively. We then create a bar plot positioning the bars on the x-axis and plotting the bars representing the counts of positive and negative entries in the training and development dataset. Finally, we set labels for the x-axis and y-axis, respectively as well as the title of the plot, and a legend indicating the bars representing the training and development datasets. We also ask the code to iterate through the bars and adds text annotations above each bar to display its counts. Finally we adjust subplot parameters to prevent overlapping and display the plot."
   ]
  },
  {
   "cell_type": "markdown",
   "id": "ab8307eb-fe38-4dc6-a63d-eab708a32e99",
   "metadata": {},
   "source": [
    "##### Discussion: \n",
    "    \n",
    "From the illustration above, for the training dataset, we see that there are 37569 reviews classified as positive sentiment and 29780 reviews classified as negative sentiment. However, the absolute difference between the counts of positive and negative entries is 7789. This suggests an imbalance in the distribution of sentiment labels within the training dataset, with a higher proportion of positive sentiment instances compared to negative sentiment instances. This imbalance could potentially affect the performance of models trained on this dataset, particularly in scenarios where balanced representation of classes is important for accurate predictions. This correspond to our previous analysis.\n",
    "\n",
    "For the development data, we notice that there are 444 reviews classified as positive sentiment and 428 reviews classified as negative sentiment. The absolute difference between the counts of positive and negative entries is 16. Therefore, unlike the training dataset, the development dataset exhibits a relatively balanced distribution between positive and negative sentiment instances, with a minimal difference of 16 entries. This balanced distribution could potentially lead to more robust model evaluation and performance assessment on unseen data, as the model's predictions are tested on a dataset that is more representative of real-world sentiment distributions. This correspond to our previous analysis. "
   ]
  },
  {
   "cell_type": "markdown",
   "id": "519b088a-6c3e-41a2-a9de-b1900996e73d",
   "metadata": {},
   "source": [
    "Then, we check the distribution of labels in our train dataset then in our development dataset "
   ]
  },
  {
   "cell_type": "code",
   "execution_count": 10,
   "id": "ab98715a-dea4-41c7-a5f8-d3eb1df50c78",
   "metadata": {
    "tags": []
   },
   "outputs": [
    {
     "name": "stdout",
     "output_type": "stream",
     "text": [
      "Train Label Distribution (Percentages):\n",
      "label\n",
      "1    55.782565\n",
      "0    44.217435\n",
      "Name: proportion, dtype: float64\n",
      "\n",
      "Dev Label Distribution (Percentages):\n",
      "label\n",
      "1    50.917431\n",
      "0    49.082569\n",
      "Name: proportion, dtype: float64\n"
     ]
    }
   ],
   "source": [
    "#We calculate the distribution of unique labels in the 'label' column of our training dataset,\n",
    "#and normalize the counts to percentages\n",
    "train_label_distribution = train_df['label'].value_counts(normalize=True) * 100\n",
    "\n",
    "#We do the same for our development dataset\n",
    "dev_label_distribution = dev_df['label'].value_counts(normalize=True) * 100\n",
    "\n",
    "#We then print a header indicating the label distribution in our training dataset\n",
    "print(\"Train Label Distribution (Percentages):\")\n",
    "#Then we print the calculated label distribution in our training dataset\n",
    "print(train_label_distribution)\n",
    "\n",
    "#We finally do the same for our development dataset\n",
    "print(\"\\nDev Label Distribution (Percentages):\")\n",
    "print(dev_label_distribution)"
   ]
  },
  {
   "cell_type": "markdown",
   "id": "da618013-bd8a-422d-b022-c9f421a1ebb2",
   "metadata": {
    "tags": []
   },
   "source": [
    "##### Code explanation: \n",
    "\n",
    "Our above code aims to analyze the distribution of labels within our training and development dataset (train_df and dev_df, respectively). To do that, we ask the code to calculate the distribution of unique labels in the 'label' column of our training dataset (train_df). By setting normalize=True, the resulting counts are converted into percentages, representing the proportion of each label relative to the total number of instances in the dataset. We then do the same for our development dataset (dev_df). We then ask the code to print a header indicating the output that represtns the label distribution in the training and development dataset, as well as the calculated label distribution in the dataset respectively. Each unique label is displayed along with its corresponding percentage of occurrences. The \"\\n\" is a newline character, ensuring that there is a blank line between the previous and following outputs."
   ]
  },
  {
   "cell_type": "markdown",
   "id": "831034fb-911d-41ba-83c9-710b1425205d",
   "metadata": {},
   "source": [
    "Then we create a figure with two subplots, each displaying a bar chart of the label distribution for the training and development datasets, respectively, providing a visual comparison of the label proportions between the two datasets."
   ]
  },
  {
   "cell_type": "code",
   "execution_count": 11,
   "id": "556af213-f771-4f0f-b066-abb1968794fb",
   "metadata": {
    "tags": []
   },
   "outputs": [
    {
     "data": {
      "image/png": "[encoded data removed]",
      "text/plain": [
       "<Figure size 1200x600 with 2 Axes>"
      ]
     },
     "metadata": {},
     "output_type": "display_data"
    }
   ],
   "source": [
    "#We want to plot each dataset distribution for better visualization\n",
    "\n",
    "#We create a figure and subplots layout with 1 row and 2 columns, and specify the figure size\n",
    "fig, ax = plt.subplots(1, 2, figsize=(12, 6))\n",
    "\n",
    "#We plot the label distribution for the training dataset on the first subplot\n",
    "train_label_distribution.plot(kind='bar', ax=ax[0], color='skyblue')\n",
    "#We then set title, x-axis label, y-axis label, and grid for the first subplot\n",
    "ax[0].set_title('Figure 4: Train Label Distribution')\n",
    "ax[0].set_xlabel('Label')\n",
    "ax[0].set_ylabel('Proportion')\n",
    "ax[0].grid(axis='y')\n",
    "\n",
    "#Secondly, we plot the label distribution for the development dataset on the second subplot\n",
    "dev_label_distribution.plot(kind='bar', ax=ax[1], color='lightgreen')\n",
    "#We then set title, x-axis label, y-axis label, and grid for the second subplot\n",
    "ax[1].set_title('Firgure 5: Dev Label Distribution')\n",
    "ax[1].set_xlabel('Label')\n",
    "ax[1].set_ylabel('Proportion')\n",
    "ax[1].grid(axis='y')\n",
    "\n",
    "#Finally, we adjust subplot spacing to prevent overlap\n",
    "plt.tight_layout()\n",
    "#And display the plot\n",
    "plt.show()"
   ]
  },
  {
   "cell_type": "markdown",
   "id": "5b95e702-af02-44d0-b5ba-b6a2da884392",
   "metadata": {
    "tags": []
   },
   "source": [
    "##### Code explanation: \n",
    "\n",
    "In the above code, we aim to visualize the distributions of label proportions for both the training and development datasets. We ask the code to provide us with a bar chart of the label distribution for the training dataset on the first subplot (ax[0]), we set a title to it, as well as the label for the x-axis and y-axis of the first subplot. With the \"ax[0].grid(axis='y')\", we ask the code to add gridlines along the y-axis of the first subplot to aid visualization. Then, we do the same for our development dataset, defined as the second subplot (ax[1]). We finally adjust the spacing between subplots to prevent overlap and display the entire figure containing both subplots. "
   ]
  },
  {
   "cell_type": "markdown",
   "id": "43cb66be-64d6-4bf3-a9fc-20e69bf9dfbc",
   "metadata": {
    "tags": []
   },
   "source": [
    "##### Discussion: \n",
    "\n",
    "From the above illustration, we notice that the majority of reviews in the training dataset are labeled as positive, constituting approximately 55.78% of the total dataset. On the other hand, the negative reviews make up the remaining proportion, accounting for approximately 44.22% of the dataset. Therefore, we conclude that there is a noticeable imbalance between the positive and negative labels (11.56%) in the training data, with the positive class being slightly overrepresented. This imbalance might be due to the higher amount of reviews, potentially leading to less accurate representation of sentiment proportions. In other words, this imbalance may potentially affect the model's learning process and performance, particularly in scenarios where the negative reviews are of interest.\n",
    "\n",
    "Regarding the development dataset, the proportions are more balanced between the positive and negative labels. Indeed, the positive reviews make up approximately 50.92% of the dataset, while the negative ones account for the remaining proportion, approximately 49.08% of the dataset. Therefore, we conclude that the development dataset has a more balanced distribution of labels (1.84%). This more balanced distribution in the development dataset might be indicative of a more accurate representation of sentiment proportions. In other words, the development dataset shows a more balanced distribution between positive and negative reviews, which might indicate a better representation of real-world data.\n",
    "\n",
    "\n",
    "It is important to note that the development dataset is typically a sample of the training dataset. While the training dataset would need more data for the model to train on and be more accurate, the development dataset is more suited for running the model's performance once it is trained."
   ]
  },
  {
   "cell_type": "markdown",
   "id": "414a3cb3-a26e-4029-82ca-80a9b29298f1",
   "metadata": {},
   "source": [
    "#### c) Discuss potential implications for model training and evaluation.\n",
    "\n",
    "As previously discussed, when identifying data imbalances in a dataset, particularly in the context of model training and evaluation for tasks like sentiment analysis, it is essential to consider several potential implications.\n",
    "\n",
    "Indeed, imbalanced datasets can lead to biased models, where the model may be more inclined to predict the majority class. For instance, our training dataset contains significantly more positive reviews than negative ones, a model trained on this data may perform well on positive reviews but poorly on negative ones. This can result in skewed evaluation metrics, such as accuracy, precision, recall, and F1 score.\n",
    "\n",
    "Moreover, imbalances make it harder for the model to learn from minority classes since there are fewer examples available for training. As a result, the model may struggle to correctly classify instances belonging to minority classes, leading to lower performance metrics for those classes.\n",
    "\n",
    "Additionally, biased models trained on imbalanced datasets may not generalize well to real-world scenarios where class distributions differ. For instance, a sentiment analysis model trained on a dataset heavily skewed towards positive reviews such as our training dataset, may fail to accurately classify reviews in domains where negative sentiment is prevalent.\n",
    "\n",
    "Finally, when evaluating model performance on imbalanced datasets, it is crucial to use appropriate evaluation metrics that consider class imbalances. Metrics like accuracy can be misleading, especially when the classes are heavily imbalanced. Instead, using metrics such as precision, recall and F1 score provide a more comprehensive understanding of model performance across different classes.\n",
    "\n",
    "To address data imbalances during model training, it is crucial to oversample the minority class or undersampling the majority class to balance the dataset. Another method would be assigning higher weights to minority class samples during model training to give them more importance or generate synthetic data points for minority classes to increase their representation. \n",
    "\n",
    "To conclude, biased models trained on imbalanced data can perpetuate existing biases present in the data. Therefore, it is crucial to consider the ethical implications of deploying such models, especially in sentiment analysis, where biased predictions can impact user experiences and decision-making processes."
   ]
  },
  {
   "cell_type": "markdown",
   "id": "672b90c1-fe43-44b7-92e7-9fb96e0f8900",
   "metadata": {},
   "source": [
    "#### d) Apply appropriate visualisation of the data sets where necessary. \n",
    "\n",
    "Throughout the previous tasks, we have generated appropriate visualizations to help in the analysis and understanding of the datasets."
   ]
  },
  {
   "cell_type": "markdown",
   "id": "03403512-62ae-4084-8934-355b07fcb832",
   "metadata": {},
   "source": [
    "## II - The text vectorisation method of choice (20 marks)."
   ]
  },
  {
   "cell_type": "markdown",
   "id": "7411997b-03c5-43df-b91c-ecc8c954cbb0",
   "metadata": {},
   "source": [
    "#### a) Compare and contrast the efficiency of at least two vector representations of movie reviews in the data set. "
   ]
  },
  {
   "cell_type": "markdown",
   "id": "5b2198b2-ac5e-4c92-962c-34e174c67130",
   "metadata": {},
   "source": [
    "For this question, we will be comparing and contrasting the efficiency of CountVectorizer and TF-IDF vector representations for movie reviews in the dataset. \n",
    "\n",
    "First, we will examine each method individually before making a final comparison and recommendation.\n",
    "\n",
    "\n",
    "##### CountVectorizer:\n",
    "\n",
    "CountVectorizer is a simple and commonly used technique for text representation in natural language processing (NLPs) which specifically deals with converting a collection of text into a numerical matrix (Bengfort, B. et al, nd). This method can be used as input for various machine learning algorithms tasks such as text classification, sentiment analysis, and information retrieval. This method consists of multiple steps (GfG,2022):\n",
    "\n",
    "- Tokenization which allows us to split our sentences (movie reviews) into individual words or tokens that can be easily analyzed. Please, note that punctuation, numbers, or special characters might be treated differently depending on our setup.\n",
    "\n",
    "- Vocabulary Building which enables us to create a vocabulary containing all unique tokens that appear in our sentences (movie reviews). This way, our unique tokens will be converted and mapped into a numerical ID.\n",
    "\n",
    "- Counting Occurrences which consists in counting how many times each word appears in each sentence (movie reviews). So for each word, it finds its corresponding ID in the vocabulary, creates a sparse matrix where rows represent sentences (movie reviews) and columns represent our unique words from the vocabulary. The value in each cell represents the count of how many times that particular term appeared in the corresponding sentence.\n",
    "\n",
    "This representation is straightforward and computationally efficient as they are quick to implement and suitable for large datasets. It can be applied to different types of text data and the result is easily interpretable as each dimension corresponds to a unique word in the vocabulary. Indeed, it involves creating a sparse matrix where each row corresponds to a document (movie review) and each column corresponds to a unique word in the corpus, and the value of each dimension represents the frequency of the corresponding word in the document. However, it represents a document as a collection of words (vocabulary) without considering the order in which they appear, focusing only on their frequency of occurrence within the document. Therefore, as it disregards word order and semantics, treating each word independently, it may result in high-dimensional sparse vectors which can lead to increased memory and computational requirements, as well as potential issues with data sparsity; and struggle to capture semantic relationships between words, limiting the model's ability to understand context and nuances in language (Ganesan, K., 2020).\n",
    "\n",
    "As discussed earlier, prior to using the dataset, we thought it might be interesting to remove digits as they might not be relevant to our task, hence allowing the simplification of the text and potentially improving model performance. It would also be interesting to lowercase the text to help standardize the data and reduce the vocabulary size, making it easier for the model to learn patterns. Finally, we can keep or remove stop words. Indeed, as they are commonly occurring words that often do not carry significant meaning for many tasks, keeping them can preserve contextual information and sentence structure, but removing them can reduce noise in the data and focus attention on more informative words. However, by using this CountVectorizer method, we would not need to preprocess our data as this technique can handle some basic text cleaning during the conversion process such as removing stop words (common words like \"the\", \"a\", \"an\"), converting all text to lowercase, and removing numerical data. \n",
    "\n",
    "\n",
    "##### TF-IDF Vectorization:\n",
    "\n",
    "TF-IDF (Term Frequency-Inverse Document Frequency) is a technique used to represent text documents based on the importance of terms in the document relative to their frequency across the entire corpus. This method combines the term frequency (TF), which measures how often a term appears in a document, with the inverse document frequency (IDF), which measures the rarity of a term across all documents in the corpus (Hyperskill, n.d). As TF-IDF assigns higher weights to terms that are frequent in the document but rare in the corpus, it captures their importance in representing the document. For instance, this method downweights stopwords that appear frequently across documents but carry little semantic meaning. Indeed, it reduces noise in the data and focuses attention on more informative words. Therefore, it can be used as input for various machine learning algorithms for tasks such as text classification, information retrieval, and document clustering (Otten, 2023). This method consists of multiple steps (Person, 2021):\n",
    "\n",
    "- Tokenization in order to break down each document (movie review) into individual words, which also involves removing punctuation and lowercasing the text.\n",
    "\n",
    "- Term Frequency (TF) Calculation to calculate the frequency of each term (word) in each document. This represents how often each term appears in the document.\n",
    "\n",
    "- Inverse Document Frequency (IDF) Calculation to calculate the inverse document frequency (IDF) for each term in the entire corpus. It measures how rare or common a term is across all documents in the corpus.\n",
    "\n",
    "- TF-IDF Calculation which consists in multiplying the term frequency (TF) of each term in a document by its inverse document frequency (IDF) to obtain the TF-IDF score. The latter combines the local importance of a term within a document (TF) with its global importance across the entire corpus (IDF).\n",
    "\n",
    "- Vectorization to represent each document as a vector where each dimension corresponds to a term (word) in the vocabulary, and the value represents the TF-IDF score of that term in the document. If a term is not present in a document, its TF-IDF score is typically set to zero.\n",
    "\n",
    "However, similarly to CounterVectorizer method, TF-IDF does not capture word order or semantic relationships between words, as it treats each term independently. This may limit its effectiveness in capturing contextual information and nuances in language, especially for tasks where context is crucial. Additionally, the size of the vocabulary in TF-IDF representations can be large, especially for datasets with diverse vocabulary. This can pose challenges in managing and processing large vocabularies, as well as in handling out-of-vocabulary words during inference. Finally, TF-IDF vectors often result in sparse representations, where most entries are zero due to the absence of terms in documents. While this sparsity helps in reducing memory usage, it may pose challenges for certain machine learning algorithms that are not well-suited to handle sparse data (Ninja, 2024).\n",
    "\n",
    "\n",
    "##### Comparison:\n",
    "\n",
    "In terms of efficiency, both vector representations are efficient in regards to implementation and computational resources. However, TF-IDF vectorization builds upon CountVectorizer method by weighting term frequencies with inverse document frequencies. This results in lower-dimensional representations compared to CounterVectorizer, especially for large vocabularies or datasets with many unique words. This can reduce memory and computational requirements, as well as potential issues with data sparsity.\n",
    "\n",
    "In terms of effectiveness, TF-IDF generally outperforms CountVectorizer method in capturing term importance and relevance. Indeed, while CountVectorizer method is simpler and quicker to implement, TF-IDF provides more nuanced representations by considering term frequencies across the corpus. It addresses some limitations of CountVectorizer method by emphasizing rare, discriminative terms and downweighting common words, which can be very useful while dealing with larger datasets or when the importance of terms needs to be emphasized."
   ]
  },
  {
   "cell_type": "markdown",
   "id": "d022a943-61ab-4fec-a142-5dd493ecbd76",
   "metadata": {},
   "source": [
    "Now we will use the CounterVectorizer representation method for our training dataset. "
   ]
  },
  {
   "cell_type": "code",
   "execution_count": 12,
   "id": "0297b56f-1b2f-4b2f-afb2-09cec4a1fa3d",
   "metadata": {
    "tags": []
   },
   "outputs": [
    {
     "name": "stdout",
     "output_type": "stream",
     "text": [
      "CountVectorizer DataFrame:\n",
      "                                                    000  10  100  101  103  \\\n",
      "hide new secretions from the parental units           0   0    0    0    0   \n",
      "contains no wit , only labored gags                   0   0    0    0    0   \n",
      "that loves its characters and communicates some...    0   0    0    0    0   \n",
      "remains utterly satisfied to remain the same th...    0   0    0    0    0   \n",
      "on the worst revenge-of-the-nerds clichés the f...    0   0    0    0    0   \n",
      "\n",
      "                                                    105  10th  11  110  112  \\\n",
      "hide new secretions from the parental units           0     0   0    0    0   \n",
      "contains no wit , only labored gags                   0     0   0    0    0   \n",
      "that loves its characters and communicates some...    0     0   0    0    0   \n",
      "remains utterly satisfied to remain the same th...    0     0   0    0    0   \n",
      "on the worst revenge-of-the-nerds clichés the f...    0     0   0    0    0   \n",
      "\n",
      "                                                    ...  zishe  ziyi  zoe  \\\n",
      "hide new secretions from the parental units         ...      0     0    0   \n",
      "contains no wit , only labored gags                 ...      0     0    0   \n",
      "that loves its characters and communicates some...  ...      0     0    0   \n",
      "remains utterly satisfied to remain the same th...  ...      0     0    0   \n",
      "on the worst revenge-of-the-nerds clichés the f...  ...      0     0    0   \n",
      "\n",
      "                                                    zombie  zone  zoning  \\\n",
      "hide new secretions from the parental units              0     0       0   \n",
      "contains no wit , only labored gags                      0     0       0   \n",
      "that loves its characters and communicates some...       0     0       0   \n",
      "remains utterly satisfied to remain the same th...       0     0       0   \n",
      "on the worst revenge-of-the-nerds clichés the f...       0     0       0   \n",
      "\n",
      "                                                    zoom  zwick  zzzzzzzzz  \\\n",
      "hide new secretions from the parental units            0      0          0   \n",
      "contains no wit , only labored gags                    0      0          0   \n",
      "that loves its characters and communicates some...     0      0          0   \n",
      "remains utterly satisfied to remain the same th...     0      0          0   \n",
      "on the worst revenge-of-the-nerds clichés the f...     0      0          0   \n",
      "\n",
      "                                                    élan  \n",
      "hide new secretions from the parental units            0  \n",
      "contains no wit , only labored gags                    0  \n",
      "that loves its characters and communicates some...     0  \n",
      "remains utterly satisfied to remain the same th...     0  \n",
      "on the worst revenge-of-the-nerds clichés the f...     0  \n",
      "\n",
      "[5 rows x 13774 columns]\n",
      "\n",
      "Vocabulary DataFrame:\n",
      "  word\n",
      "0  000\n",
      "1   10\n",
      "2  100\n",
      "3  101\n",
      "4  103\n"
     ]
    }
   ],
   "source": [
    "#We assume 'sentence' column contains the text of movie reviews in train_df\n",
    "sentence_data = train_df['sentence'].tolist()\n",
    "\n",
    "#We create a CountVectorizer instance\n",
    "vectorizer_cv = CountVectorizer(lowercase=True) # stop_words='english')\n",
    "\n",
    "#We fit the vectorizer on the sentence data and transform the sentence data into CountVectorizer representation\n",
    "vectorizer_train = vectorizer_cv.fit_transform(sentence_data)\n",
    "\n",
    "#We convert CountVectorizer representation to a dataframe for visualization\n",
    "countvectorizer_df = pd.DataFrame(vectorizer_train.toarray(), columns=vectorizer_cv.get_feature_names_out())\n",
    "\n",
    "#We set the index of the dataframe to our \"movie reviews\" (sentences)\n",
    "countvectorizer_df.index = sentence_data\n",
    "\n",
    "#We create a dataframe for the vocabulary\n",
    "bow_df = pd.DataFrame({'word': vectorizer_cv.get_feature_names_out()})\n",
    "\n",
    "#Finally, we display the first few rows of the CounterVectorizer DataFrame\n",
    "print(\"CountVectorizer DataFrame:\")\n",
    "print(countvectorizer_df.head())\n",
    "\n",
    "#As well as the first few rows of the Vocabulary DataFrame\n",
    "print(\"\\nVocabulary DataFrame:\")\n",
    "print(bow_df.head())"
   ]
  },
  {
   "cell_type": "code",
   "execution_count": 13,
   "id": "3f22a571-6748-46ee-af5f-146b84013a6a",
   "metadata": {
    "tags": []
   },
   "outputs": [
    {
     "data": {
      "text/html": [
       "<div>\n",
       "<style scoped>\n",
       "    .dataframe tbody tr th:only-of-type {\n",
       "        vertical-align: middle;\n",
       "    }\n",
       "\n",
       "    .dataframe tbody tr th {\n",
       "        vertical-align: top;\n",
       "    }\n",
       "\n",
       "    .dataframe thead th {\n",
       "        text-align: right;\n",
       "    }\n",
       "</style>\n",
       "<table border=\"1\" class=\"dataframe\">\n",
       "  <thead>\n",
       "    <tr style=\"text-align: right;\">\n",
       "      <th></th>\n",
       "      <th>000</th>\n",
       "      <th>10</th>\n",
       "      <th>100</th>\n",
       "      <th>101</th>\n",
       "      <th>103</th>\n",
       "      <th>105</th>\n",
       "      <th>10th</th>\n",
       "      <th>11</th>\n",
       "      <th>110</th>\n",
       "      <th>112</th>\n",
       "      <th>...</th>\n",
       "      <th>zishe</th>\n",
       "      <th>ziyi</th>\n",
       "      <th>zoe</th>\n",
       "      <th>zombie</th>\n",
       "      <th>zone</th>\n",
       "      <th>zoning</th>\n",
       "      <th>zoom</th>\n",
       "      <th>zwick</th>\n",
       "      <th>zzzzzzzzz</th>\n",
       "      <th>élan</th>\n",
       "    </tr>\n",
       "  </thead>\n",
       "  <tbody>\n",
       "    <tr>\n",
       "      <th>hide new secretions from the parental units</th>\n",
       "      <td>0</td>\n",
       "      <td>0</td>\n",
       "      <td>0</td>\n",
       "      <td>0</td>\n",
       "      <td>0</td>\n",
       "      <td>0</td>\n",
       "      <td>0</td>\n",
       "      <td>0</td>\n",
       "      <td>0</td>\n",
       "      <td>0</td>\n",
       "      <td>...</td>\n",
       "      <td>0</td>\n",
       "      <td>0</td>\n",
       "      <td>0</td>\n",
       "      <td>0</td>\n",
       "      <td>0</td>\n",
       "      <td>0</td>\n",
       "      <td>0</td>\n",
       "      <td>0</td>\n",
       "      <td>0</td>\n",
       "      <td>0</td>\n",
       "    </tr>\n",
       "    <tr>\n",
       "      <th>contains no wit , only labored gags</th>\n",
       "      <td>0</td>\n",
       "      <td>0</td>\n",
       "      <td>0</td>\n",
       "      <td>0</td>\n",
       "      <td>0</td>\n",
       "      <td>0</td>\n",
       "      <td>0</td>\n",
       "      <td>0</td>\n",
       "      <td>0</td>\n",
       "      <td>0</td>\n",
       "      <td>...</td>\n",
       "      <td>0</td>\n",
       "      <td>0</td>\n",
       "      <td>0</td>\n",
       "      <td>0</td>\n",
       "      <td>0</td>\n",
       "      <td>0</td>\n",
       "      <td>0</td>\n",
       "      <td>0</td>\n",
       "      <td>0</td>\n",
       "      <td>0</td>\n",
       "    </tr>\n",
       "    <tr>\n",
       "      <th>that loves its characters and communicates something rather beautiful about human nature</th>\n",
       "      <td>0</td>\n",
       "      <td>0</td>\n",
       "      <td>0</td>\n",
       "      <td>0</td>\n",
       "      <td>0</td>\n",
       "      <td>0</td>\n",
       "      <td>0</td>\n",
       "      <td>0</td>\n",
       "      <td>0</td>\n",
       "      <td>0</td>\n",
       "      <td>...</td>\n",
       "      <td>0</td>\n",
       "      <td>0</td>\n",
       "      <td>0</td>\n",
       "      <td>0</td>\n",
       "      <td>0</td>\n",
       "      <td>0</td>\n",
       "      <td>0</td>\n",
       "      <td>0</td>\n",
       "      <td>0</td>\n",
       "      <td>0</td>\n",
       "    </tr>\n",
       "    <tr>\n",
       "      <th>remains utterly satisfied to remain the same throughout</th>\n",
       "      <td>0</td>\n",
       "      <td>0</td>\n",
       "      <td>0</td>\n",
       "      <td>0</td>\n",
       "      <td>0</td>\n",
       "      <td>0</td>\n",
       "      <td>0</td>\n",
       "      <td>0</td>\n",
       "      <td>0</td>\n",
       "      <td>0</td>\n",
       "      <td>...</td>\n",
       "      <td>0</td>\n",
       "      <td>0</td>\n",
       "      <td>0</td>\n",
       "      <td>0</td>\n",
       "      <td>0</td>\n",
       "      <td>0</td>\n",
       "      <td>0</td>\n",
       "      <td>0</td>\n",
       "      <td>0</td>\n",
       "      <td>0</td>\n",
       "    </tr>\n",
       "    <tr>\n",
       "      <th>on the worst revenge-of-the-nerds clichés the filmmakers could dredge up</th>\n",
       "      <td>0</td>\n",
       "      <td>0</td>\n",
       "      <td>0</td>\n",
       "      <td>0</td>\n",
       "      <td>0</td>\n",
       "      <td>0</td>\n",
       "      <td>0</td>\n",
       "      <td>0</td>\n",
       "      <td>0</td>\n",
       "      <td>0</td>\n",
       "      <td>...</td>\n",
       "      <td>0</td>\n",
       "      <td>0</td>\n",
       "      <td>0</td>\n",
       "      <td>0</td>\n",
       "      <td>0</td>\n",
       "      <td>0</td>\n",
       "      <td>0</td>\n",
       "      <td>0</td>\n",
       "      <td>0</td>\n",
       "      <td>0</td>\n",
       "    </tr>\n",
       "    <tr>\n",
       "      <th>...</th>\n",
       "      <td>...</td>\n",
       "      <td>...</td>\n",
       "      <td>...</td>\n",
       "      <td>...</td>\n",
       "      <td>...</td>\n",
       "      <td>...</td>\n",
       "      <td>...</td>\n",
       "      <td>...</td>\n",
       "      <td>...</td>\n",
       "      <td>...</td>\n",
       "      <td>...</td>\n",
       "      <td>...</td>\n",
       "      <td>...</td>\n",
       "      <td>...</td>\n",
       "      <td>...</td>\n",
       "      <td>...</td>\n",
       "      <td>...</td>\n",
       "      <td>...</td>\n",
       "      <td>...</td>\n",
       "      <td>...</td>\n",
       "      <td>...</td>\n",
       "    </tr>\n",
       "    <tr>\n",
       "      <th>a delightful comedy</th>\n",
       "      <td>0</td>\n",
       "      <td>0</td>\n",
       "      <td>0</td>\n",
       "      <td>0</td>\n",
       "      <td>0</td>\n",
       "      <td>0</td>\n",
       "      <td>0</td>\n",
       "      <td>0</td>\n",
       "      <td>0</td>\n",
       "      <td>0</td>\n",
       "      <td>...</td>\n",
       "      <td>0</td>\n",
       "      <td>0</td>\n",
       "      <td>0</td>\n",
       "      <td>0</td>\n",
       "      <td>0</td>\n",
       "      <td>0</td>\n",
       "      <td>0</td>\n",
       "      <td>0</td>\n",
       "      <td>0</td>\n",
       "      <td>0</td>\n",
       "    </tr>\n",
       "    <tr>\n",
       "      <th>anguish , anger and frustration</th>\n",
       "      <td>0</td>\n",
       "      <td>0</td>\n",
       "      <td>0</td>\n",
       "      <td>0</td>\n",
       "      <td>0</td>\n",
       "      <td>0</td>\n",
       "      <td>0</td>\n",
       "      <td>0</td>\n",
       "      <td>0</td>\n",
       "      <td>0</td>\n",
       "      <td>...</td>\n",
       "      <td>0</td>\n",
       "      <td>0</td>\n",
       "      <td>0</td>\n",
       "      <td>0</td>\n",
       "      <td>0</td>\n",
       "      <td>0</td>\n",
       "      <td>0</td>\n",
       "      <td>0</td>\n",
       "      <td>0</td>\n",
       "      <td>0</td>\n",
       "    </tr>\n",
       "    <tr>\n",
       "      <th>at achieving the modest , crowd-pleasing goals it sets for itself</th>\n",
       "      <td>0</td>\n",
       "      <td>0</td>\n",
       "      <td>0</td>\n",
       "      <td>0</td>\n",
       "      <td>0</td>\n",
       "      <td>0</td>\n",
       "      <td>0</td>\n",
       "      <td>0</td>\n",
       "      <td>0</td>\n",
       "      <td>0</td>\n",
       "      <td>...</td>\n",
       "      <td>0</td>\n",
       "      <td>0</td>\n",
       "      <td>0</td>\n",
       "      <td>0</td>\n",
       "      <td>0</td>\n",
       "      <td>0</td>\n",
       "      <td>0</td>\n",
       "      <td>0</td>\n",
       "      <td>0</td>\n",
       "      <td>0</td>\n",
       "    </tr>\n",
       "    <tr>\n",
       "      <th>a patient viewer</th>\n",
       "      <td>0</td>\n",
       "      <td>0</td>\n",
       "      <td>0</td>\n",
       "      <td>0</td>\n",
       "      <td>0</td>\n",
       "      <td>0</td>\n",
       "      <td>0</td>\n",
       "      <td>0</td>\n",
       "      <td>0</td>\n",
       "      <td>0</td>\n",
       "      <td>...</td>\n",
       "      <td>0</td>\n",
       "      <td>0</td>\n",
       "      <td>0</td>\n",
       "      <td>0</td>\n",
       "      <td>0</td>\n",
       "      <td>0</td>\n",
       "      <td>0</td>\n",
       "      <td>0</td>\n",
       "      <td>0</td>\n",
       "      <td>0</td>\n",
       "    </tr>\n",
       "    <tr>\n",
       "      <th>this new jangle of noise , mayhem and stupidity must be a serious contender for the title .</th>\n",
       "      <td>0</td>\n",
       "      <td>0</td>\n",
       "      <td>0</td>\n",
       "      <td>0</td>\n",
       "      <td>0</td>\n",
       "      <td>0</td>\n",
       "      <td>0</td>\n",
       "      <td>0</td>\n",
       "      <td>0</td>\n",
       "      <td>0</td>\n",
       "      <td>...</td>\n",
       "      <td>0</td>\n",
       "      <td>0</td>\n",
       "      <td>0</td>\n",
       "      <td>0</td>\n",
       "      <td>0</td>\n",
       "      <td>0</td>\n",
       "      <td>0</td>\n",
       "      <td>0</td>\n",
       "      <td>0</td>\n",
       "      <td>0</td>\n",
       "    </tr>\n",
       "  </tbody>\n",
       "</table>\n",
       "<p>67349 rows × 13774 columns</p>\n",
       "</div>"
      ],
      "text/plain": [
       "                                                    000  10  100  101  103  \\\n",
       "hide new secretions from the parental units           0   0    0    0    0   \n",
       "contains no wit , only labored gags                   0   0    0    0    0   \n",
       "that loves its characters and communicates some...    0   0    0    0    0   \n",
       "remains utterly satisfied to remain the same th...    0   0    0    0    0   \n",
       "on the worst revenge-of-the-nerds clichés the f...    0   0    0    0    0   \n",
       "...                                                 ...  ..  ...  ...  ...   \n",
       "a delightful comedy                                   0   0    0    0    0   \n",
       "anguish , anger and frustration                       0   0    0    0    0   \n",
       "at achieving the modest , crowd-pleasing goals ...    0   0    0    0    0   \n",
       "a patient viewer                                      0   0    0    0    0   \n",
       "this new jangle of noise , mayhem and stupidity...    0   0    0    0    0   \n",
       "\n",
       "                                                    105  10th  11  110  112  \\\n",
       "hide new secretions from the parental units           0     0   0    0    0   \n",
       "contains no wit , only labored gags                   0     0   0    0    0   \n",
       "that loves its characters and communicates some...    0     0   0    0    0   \n",
       "remains utterly satisfied to remain the same th...    0     0   0    0    0   \n",
       "on the worst revenge-of-the-nerds clichés the f...    0     0   0    0    0   \n",
       "...                                                 ...   ...  ..  ...  ...   \n",
       "a delightful comedy                                   0     0   0    0    0   \n",
       "anguish , anger and frustration                       0     0   0    0    0   \n",
       "at achieving the modest , crowd-pleasing goals ...    0     0   0    0    0   \n",
       "a patient viewer                                      0     0   0    0    0   \n",
       "this new jangle of noise , mayhem and stupidity...    0     0   0    0    0   \n",
       "\n",
       "                                                    ...  zishe  ziyi  zoe  \\\n",
       "hide new secretions from the parental units         ...      0     0    0   \n",
       "contains no wit , only labored gags                 ...      0     0    0   \n",
       "that loves its characters and communicates some...  ...      0     0    0   \n",
       "remains utterly satisfied to remain the same th...  ...      0     0    0   \n",
       "on the worst revenge-of-the-nerds clichés the f...  ...      0     0    0   \n",
       "...                                                 ...    ...   ...  ...   \n",
       "a delightful comedy                                 ...      0     0    0   \n",
       "anguish , anger and frustration                     ...      0     0    0   \n",
       "at achieving the modest , crowd-pleasing goals ...  ...      0     0    0   \n",
       "a patient viewer                                    ...      0     0    0   \n",
       "this new jangle of noise , mayhem and stupidity...  ...      0     0    0   \n",
       "\n",
       "                                                    zombie  zone  zoning  \\\n",
       "hide new secretions from the parental units              0     0       0   \n",
       "contains no wit , only labored gags                      0     0       0   \n",
       "that loves its characters and communicates some...       0     0       0   \n",
       "remains utterly satisfied to remain the same th...       0     0       0   \n",
       "on the worst revenge-of-the-nerds clichés the f...       0     0       0   \n",
       "...                                                    ...   ...     ...   \n",
       "a delightful comedy                                      0     0       0   \n",
       "anguish , anger and frustration                          0     0       0   \n",
       "at achieving the modest , crowd-pleasing goals ...       0     0       0   \n",
       "a patient viewer                                         0     0       0   \n",
       "this new jangle of noise , mayhem and stupidity...       0     0       0   \n",
       "\n",
       "                                                    zoom  zwick  zzzzzzzzz  \\\n",
       "hide new secretions from the parental units            0      0          0   \n",
       "contains no wit , only labored gags                    0      0          0   \n",
       "that loves its characters and communicates some...     0      0          0   \n",
       "remains utterly satisfied to remain the same th...     0      0          0   \n",
       "on the worst revenge-of-the-nerds clichés the f...     0      0          0   \n",
       "...                                                  ...    ...        ...   \n",
       "a delightful comedy                                    0      0          0   \n",
       "anguish , anger and frustration                        0      0          0   \n",
       "at achieving the modest , crowd-pleasing goals ...     0      0          0   \n",
       "a patient viewer                                       0      0          0   \n",
       "this new jangle of noise , mayhem and stupidity...     0      0          0   \n",
       "\n",
       "                                                    élan  \n",
       "hide new secretions from the parental units            0  \n",
       "contains no wit , only labored gags                    0  \n",
       "that loves its characters and communicates some...     0  \n",
       "remains utterly satisfied to remain the same th...     0  \n",
       "on the worst revenge-of-the-nerds clichés the f...     0  \n",
       "...                                                  ...  \n",
       "a delightful comedy                                    0  \n",
       "anguish , anger and frustration                        0  \n",
       "at achieving the modest , crowd-pleasing goals ...     0  \n",
       "a patient viewer                                       0  \n",
       "this new jangle of noise , mayhem and stupidity...     0  \n",
       "\n",
       "[67349 rows x 13774 columns]"
      ]
     },
     "execution_count": 13,
     "metadata": {},
     "output_type": "execute_result"
    }
   ],
   "source": [
    "countvectorizer_df"
   ]
  },
  {
   "cell_type": "code",
   "execution_count": 14,
   "id": "f6f5f696-a535-42ec-9c4c-30a3eb1d42a3",
   "metadata": {
    "tags": []
   },
   "outputs": [
    {
     "data": {
      "text/html": [
       "<div>\n",
       "<style scoped>\n",
       "    .dataframe tbody tr th:only-of-type {\n",
       "        vertical-align: middle;\n",
       "    }\n",
       "\n",
       "    .dataframe tbody tr th {\n",
       "        vertical-align: top;\n",
       "    }\n",
       "\n",
       "    .dataframe thead th {\n",
       "        text-align: right;\n",
       "    }\n",
       "</style>\n",
       "<table border=\"1\" class=\"dataframe\">\n",
       "  <thead>\n",
       "    <tr style=\"text-align: right;\">\n",
       "      <th></th>\n",
       "      <th>word</th>\n",
       "    </tr>\n",
       "  </thead>\n",
       "  <tbody>\n",
       "    <tr>\n",
       "      <th>0</th>\n",
       "      <td>000</td>\n",
       "    </tr>\n",
       "    <tr>\n",
       "      <th>1</th>\n",
       "      <td>10</td>\n",
       "    </tr>\n",
       "    <tr>\n",
       "      <th>2</th>\n",
       "      <td>100</td>\n",
       "    </tr>\n",
       "    <tr>\n",
       "      <th>3</th>\n",
       "      <td>101</td>\n",
       "    </tr>\n",
       "    <tr>\n",
       "      <th>4</th>\n",
       "      <td>103</td>\n",
       "    </tr>\n",
       "    <tr>\n",
       "      <th>...</th>\n",
       "      <td>...</td>\n",
       "    </tr>\n",
       "    <tr>\n",
       "      <th>13769</th>\n",
       "      <td>zoning</td>\n",
       "    </tr>\n",
       "    <tr>\n",
       "      <th>13770</th>\n",
       "      <td>zoom</td>\n",
       "    </tr>\n",
       "    <tr>\n",
       "      <th>13771</th>\n",
       "      <td>zwick</td>\n",
       "    </tr>\n",
       "    <tr>\n",
       "      <th>13772</th>\n",
       "      <td>zzzzzzzzz</td>\n",
       "    </tr>\n",
       "    <tr>\n",
       "      <th>13773</th>\n",
       "      <td>élan</td>\n",
       "    </tr>\n",
       "  </tbody>\n",
       "</table>\n",
       "<p>13774 rows × 1 columns</p>\n",
       "</div>"
      ],
      "text/plain": [
       "            word\n",
       "0            000\n",
       "1             10\n",
       "2            100\n",
       "3            101\n",
       "4            103\n",
       "...          ...\n",
       "13769     zoning\n",
       "13770       zoom\n",
       "13771      zwick\n",
       "13772  zzzzzzzzz\n",
       "13773       élan\n",
       "\n",
       "[13774 rows x 1 columns]"
      ]
     },
     "execution_count": 14,
     "metadata": {},
     "output_type": "execute_result"
    }
   ],
   "source": [
    "bow_df"
   ]
  },
  {
   "cell_type": "markdown",
   "id": "aa54790e-b5c6-4c35-928d-a33ad534609f",
   "metadata": {},
   "source": [
    "##### Code explanation: \n",
    "\n",
    "The above code demonstrates how to transform text data by using CountVectorizer representation. To do that, we first import the necessary libraries, including pandas for data manipulation and CountVectorizer from sklearn.feature_extraction.text for converting text data into numerical vectors. Then, we ask the code to extract the text data from our sentence column in our training dataframe and convert it into a list using the tolist() method. Once done, we create an instance of the CountVectorizer class that will be used to transform the text data into a CountVectorizer representation. We fit the vectorizer on the text data using the fit_transform() method, so the code learns the vocabulary from the text data and transforms it into a sparse matrix representation. Then, we ask the code to convert the sparse matrix representation into a dataframe for visualization purposes. The resulting DataFrame countvectorizer_df contains the Countvectorizer representation of the text data, where each row corresponds to a movie review and each column corresponds to a unique word in the vocabulary. We then create a separate dataframe bow_df to store the vocabulary learned by the vectorizer, which will contain a list of all the unique words present in the text data. Finally, we print the first few rows of both the countvectorizer dataframe (countvectorizer_df) and the vocabulary dataframe (bow_df) to inspect the transformed data and the learned vocabulary.\n",
    "\n",
    "Note 2: In our current implementation, the sentence data retains digits and punctuation marks. While for sentiment analysis tasks, digits and punctuation marks are often considered irrelevant and are typically removed to enhance accuracy, in our case - as mentioned in Note 1 - our data undergoes tokenization during preprocessing. Therefore, the presence of digits and punctuation marks is not significant and would not impact our sentiment analysis results.\n",
    "On another hand, our decision to retain stop words comes from their significant role in preserving the integrity and context of the text. Even though they tend to appear frequently across documents yet add minimal semantic value, they often play crucial roles in defining the relationships between other words in a sentence. It is true that removing stopwords could enhance the quality of our analysis as it reduces noise in the dataset and focuses on more meaningful and informative words. However, the sentence structure might be altered, potentially leading to a loss of important information about the relationships between words. Indeed, in sentiment analysis, retaining stop words might lead to improved performance, as they can still contribute to the overall understanding of a document when considered collectively. Finally, removing stop words adds an additional preprocessing step, which can increase complexity and computational overhead. By retaining stop words, we can simplify the preprocessing step and potentially reduce the risk of inadvertently removing important information from the text."
   ]
  },
  {
   "cell_type": "markdown",
   "id": "fa0eeae0-4c2e-4ba0-bb22-23d434d52254",
   "metadata": {},
   "source": [
    "Now we want to use the TF-IDF method for our dataset."
   ]
  },
  {
   "cell_type": "code",
   "execution_count": 15,
   "id": "863f67d7-ffdb-4a49-a84f-ed81ab0cbd55",
   "metadata": {
    "tags": []
   },
   "outputs": [
    {
     "name": "stdout",
     "output_type": "stream",
     "text": [
      "TF-IDF DataFrame:\n",
      "                                                    000   10  100  101  103  \\\n",
      "hide new secretions from the parental units         0.0  0.0  0.0  0.0  0.0   \n",
      "contains no wit , only labored gags                 0.0  0.0  0.0  0.0  0.0   \n",
      "that loves its characters and communicates some...  0.0  0.0  0.0  0.0  0.0   \n",
      "remains utterly satisfied to remain the same th...  0.0  0.0  0.0  0.0  0.0   \n",
      "on the worst revenge-of-the-nerds clichés the f...  0.0  0.0  0.0  0.0  0.0   \n",
      "\n",
      "                                                    105  10th   11  110  112  \\\n",
      "hide new secretions from the parental units         0.0   0.0  0.0  0.0  0.0   \n",
      "contains no wit , only labored gags                 0.0   0.0  0.0  0.0  0.0   \n",
      "that loves its characters and communicates some...  0.0   0.0  0.0  0.0  0.0   \n",
      "remains utterly satisfied to remain the same th...  0.0   0.0  0.0  0.0  0.0   \n",
      "on the worst revenge-of-the-nerds clichés the f...  0.0   0.0  0.0  0.0  0.0   \n",
      "\n",
      "                                                    ...  zishe  ziyi  zoe  \\\n",
      "hide new secretions from the parental units         ...    0.0   0.0  0.0   \n",
      "contains no wit , only labored gags                 ...    0.0   0.0  0.0   \n",
      "that loves its characters and communicates some...  ...    0.0   0.0  0.0   \n",
      "remains utterly satisfied to remain the same th...  ...    0.0   0.0  0.0   \n",
      "on the worst revenge-of-the-nerds clichés the f...  ...    0.0   0.0  0.0   \n",
      "\n",
      "                                                    zombie  zone  zoning  \\\n",
      "hide new secretions from the parental units            0.0   0.0     0.0   \n",
      "contains no wit , only labored gags                    0.0   0.0     0.0   \n",
      "that loves its characters and communicates some...     0.0   0.0     0.0   \n",
      "remains utterly satisfied to remain the same th...     0.0   0.0     0.0   \n",
      "on the worst revenge-of-the-nerds clichés the f...     0.0   0.0     0.0   \n",
      "\n",
      "                                                    zoom  zwick  zzzzzzzzz  \\\n",
      "hide new secretions from the parental units          0.0    0.0        0.0   \n",
      "contains no wit , only labored gags                  0.0    0.0        0.0   \n",
      "that loves its characters and communicates some...   0.0    0.0        0.0   \n",
      "remains utterly satisfied to remain the same th...   0.0    0.0        0.0   \n",
      "on the worst revenge-of-the-nerds clichés the f...   0.0    0.0        0.0   \n",
      "\n",
      "                                                    élan  \n",
      "hide new secretions from the parental units          0.0  \n",
      "contains no wit , only labored gags                  0.0  \n",
      "that loves its characters and communicates some...   0.0  \n",
      "remains utterly satisfied to remain the same th...   0.0  \n",
      "on the worst revenge-of-the-nerds clichés the f...   0.0  \n",
      "\n",
      "[5 rows x 13774 columns]\n",
      "\n",
      "Vocabulary DataFrame:\n",
      "            word\n",
      "0            000\n",
      "1             10\n",
      "2            100\n",
      "3            101\n",
      "4            103\n",
      "...          ...\n",
      "13769     zoning\n",
      "13770       zoom\n",
      "13771      zwick\n",
      "13772  zzzzzzzzz\n",
      "13773       élan\n",
      "\n",
      "[13774 rows x 1 columns]\n"
     ]
    }
   ],
   "source": [
    "#We assume 'sentence' column contains the text of movie reviews in train_df\n",
    "sentence_data = train_df['sentence'].tolist()\n",
    "\n",
    "#We create a TfidfVectorizer instance with English stop words\n",
    "vectorizer_tfidf = TfidfVectorizer()\n",
    "\n",
    "#We fit the vectorizer on the text data and transform the text data into TF-IDF representation\n",
    "tfidf_train = vectorizer_tfidf.fit_transform(sentence_data)\n",
    "\n",
    "#We get the vocabulary with their corresponding indices\n",
    "vocabulary = vectorizer_tfidf.get_feature_names_out()\n",
    "\n",
    "#Then, we create a dataframe for the vocabulary\n",
    "vocabulary_df = pd.DataFrame({'word': vocabulary})\n",
    "\n",
    "#And convert TF-IDF representation to a dataframe for visualization\n",
    "tfidf_df = pd.DataFrame(tfidf_train.toarray(), columns=vectorizer_tfidf.get_feature_names_out())\n",
    "\n",
    "#We set the index of the dataframe to our \"movie reviews\" (sentences)\n",
    "tfidf_df.index = sentence_data\n",
    "\n",
    "#Finally, we display the TF-IDF representation\n",
    "print(\"TF-IDF DataFrame:\")\n",
    "print(tfidf_df.head())\n",
    "\n",
    "#As well as the vocabulary\n",
    "print(\"\\nVocabulary DataFrame:\")\n",
    "print(vocabulary_df)\n"
   ]
  },
  {
   "cell_type": "code",
   "execution_count": 16,
   "id": "776931d7-e3cb-4365-90c5-2d311a4fa1d4",
   "metadata": {
    "tags": []
   },
   "outputs": [
    {
     "data": {
      "text/html": [
       "<div>\n",
       "<style scoped>\n",
       "    .dataframe tbody tr th:only-of-type {\n",
       "        vertical-align: middle;\n",
       "    }\n",
       "\n",
       "    .dataframe tbody tr th {\n",
       "        vertical-align: top;\n",
       "    }\n",
       "\n",
       "    .dataframe thead th {\n",
       "        text-align: right;\n",
       "    }\n",
       "</style>\n",
       "<table border=\"1\" class=\"dataframe\">\n",
       "  <thead>\n",
       "    <tr style=\"text-align: right;\">\n",
       "      <th></th>\n",
       "      <th>000</th>\n",
       "      <th>10</th>\n",
       "      <th>100</th>\n",
       "      <th>101</th>\n",
       "      <th>103</th>\n",
       "      <th>105</th>\n",
       "      <th>10th</th>\n",
       "      <th>11</th>\n",
       "      <th>110</th>\n",
       "      <th>112</th>\n",
       "      <th>...</th>\n",
       "      <th>zishe</th>\n",
       "      <th>ziyi</th>\n",
       "      <th>zoe</th>\n",
       "      <th>zombie</th>\n",
       "      <th>zone</th>\n",
       "      <th>zoning</th>\n",
       "      <th>zoom</th>\n",
       "      <th>zwick</th>\n",
       "      <th>zzzzzzzzz</th>\n",
       "      <th>élan</th>\n",
       "    </tr>\n",
       "  </thead>\n",
       "  <tbody>\n",
       "    <tr>\n",
       "      <th>hide new secretions from the parental units</th>\n",
       "      <td>0.0</td>\n",
       "      <td>0.0</td>\n",
       "      <td>0.0</td>\n",
       "      <td>0.0</td>\n",
       "      <td>0.0</td>\n",
       "      <td>0.0</td>\n",
       "      <td>0.0</td>\n",
       "      <td>0.0</td>\n",
       "      <td>0.0</td>\n",
       "      <td>0.0</td>\n",
       "      <td>...</td>\n",
       "      <td>0.0</td>\n",
       "      <td>0.0</td>\n",
       "      <td>0.0</td>\n",
       "      <td>0.0</td>\n",
       "      <td>0.0</td>\n",
       "      <td>0.0</td>\n",
       "      <td>0.0</td>\n",
       "      <td>0.0</td>\n",
       "      <td>0.0</td>\n",
       "      <td>0.0</td>\n",
       "    </tr>\n",
       "    <tr>\n",
       "      <th>contains no wit , only labored gags</th>\n",
       "      <td>0.0</td>\n",
       "      <td>0.0</td>\n",
       "      <td>0.0</td>\n",
       "      <td>0.0</td>\n",
       "      <td>0.0</td>\n",
       "      <td>0.0</td>\n",
       "      <td>0.0</td>\n",
       "      <td>0.0</td>\n",
       "      <td>0.0</td>\n",
       "      <td>0.0</td>\n",
       "      <td>...</td>\n",
       "      <td>0.0</td>\n",
       "      <td>0.0</td>\n",
       "      <td>0.0</td>\n",
       "      <td>0.0</td>\n",
       "      <td>0.0</td>\n",
       "      <td>0.0</td>\n",
       "      <td>0.0</td>\n",
       "      <td>0.0</td>\n",
       "      <td>0.0</td>\n",
       "      <td>0.0</td>\n",
       "    </tr>\n",
       "    <tr>\n",
       "      <th>that loves its characters and communicates something rather beautiful about human nature</th>\n",
       "      <td>0.0</td>\n",
       "      <td>0.0</td>\n",
       "      <td>0.0</td>\n",
       "      <td>0.0</td>\n",
       "      <td>0.0</td>\n",
       "      <td>0.0</td>\n",
       "      <td>0.0</td>\n",
       "      <td>0.0</td>\n",
       "      <td>0.0</td>\n",
       "      <td>0.0</td>\n",
       "      <td>...</td>\n",
       "      <td>0.0</td>\n",
       "      <td>0.0</td>\n",
       "      <td>0.0</td>\n",
       "      <td>0.0</td>\n",
       "      <td>0.0</td>\n",
       "      <td>0.0</td>\n",
       "      <td>0.0</td>\n",
       "      <td>0.0</td>\n",
       "      <td>0.0</td>\n",
       "      <td>0.0</td>\n",
       "    </tr>\n",
       "    <tr>\n",
       "      <th>remains utterly satisfied to remain the same throughout</th>\n",
       "      <td>0.0</td>\n",
       "      <td>0.0</td>\n",
       "      <td>0.0</td>\n",
       "      <td>0.0</td>\n",
       "      <td>0.0</td>\n",
       "      <td>0.0</td>\n",
       "      <td>0.0</td>\n",
       "      <td>0.0</td>\n",
       "      <td>0.0</td>\n",
       "      <td>0.0</td>\n",
       "      <td>...</td>\n",
       "      <td>0.0</td>\n",
       "      <td>0.0</td>\n",
       "      <td>0.0</td>\n",
       "      <td>0.0</td>\n",
       "      <td>0.0</td>\n",
       "      <td>0.0</td>\n",
       "      <td>0.0</td>\n",
       "      <td>0.0</td>\n",
       "      <td>0.0</td>\n",
       "      <td>0.0</td>\n",
       "    </tr>\n",
       "    <tr>\n",
       "      <th>on the worst revenge-of-the-nerds clichés the filmmakers could dredge up</th>\n",
       "      <td>0.0</td>\n",
       "      <td>0.0</td>\n",
       "      <td>0.0</td>\n",
       "      <td>0.0</td>\n",
       "      <td>0.0</td>\n",
       "      <td>0.0</td>\n",
       "      <td>0.0</td>\n",
       "      <td>0.0</td>\n",
       "      <td>0.0</td>\n",
       "      <td>0.0</td>\n",
       "      <td>...</td>\n",
       "      <td>0.0</td>\n",
       "      <td>0.0</td>\n",
       "      <td>0.0</td>\n",
       "      <td>0.0</td>\n",
       "      <td>0.0</td>\n",
       "      <td>0.0</td>\n",
       "      <td>0.0</td>\n",
       "      <td>0.0</td>\n",
       "      <td>0.0</td>\n",
       "      <td>0.0</td>\n",
       "    </tr>\n",
       "    <tr>\n",
       "      <th>...</th>\n",
       "      <td>...</td>\n",
       "      <td>...</td>\n",
       "      <td>...</td>\n",
       "      <td>...</td>\n",
       "      <td>...</td>\n",
       "      <td>...</td>\n",
       "      <td>...</td>\n",
       "      <td>...</td>\n",
       "      <td>...</td>\n",
       "      <td>...</td>\n",
       "      <td>...</td>\n",
       "      <td>...</td>\n",
       "      <td>...</td>\n",
       "      <td>...</td>\n",
       "      <td>...</td>\n",
       "      <td>...</td>\n",
       "      <td>...</td>\n",
       "      <td>...</td>\n",
       "      <td>...</td>\n",
       "      <td>...</td>\n",
       "      <td>...</td>\n",
       "    </tr>\n",
       "    <tr>\n",
       "      <th>a delightful comedy</th>\n",
       "      <td>0.0</td>\n",
       "      <td>0.0</td>\n",
       "      <td>0.0</td>\n",
       "      <td>0.0</td>\n",
       "      <td>0.0</td>\n",
       "      <td>0.0</td>\n",
       "      <td>0.0</td>\n",
       "      <td>0.0</td>\n",
       "      <td>0.0</td>\n",
       "      <td>0.0</td>\n",
       "      <td>...</td>\n",
       "      <td>0.0</td>\n",
       "      <td>0.0</td>\n",
       "      <td>0.0</td>\n",
       "      <td>0.0</td>\n",
       "      <td>0.0</td>\n",
       "      <td>0.0</td>\n",
       "      <td>0.0</td>\n",
       "      <td>0.0</td>\n",
       "      <td>0.0</td>\n",
       "      <td>0.0</td>\n",
       "    </tr>\n",
       "    <tr>\n",
       "      <th>anguish , anger and frustration</th>\n",
       "      <td>0.0</td>\n",
       "      <td>0.0</td>\n",
       "      <td>0.0</td>\n",
       "      <td>0.0</td>\n",
       "      <td>0.0</td>\n",
       "      <td>0.0</td>\n",
       "      <td>0.0</td>\n",
       "      <td>0.0</td>\n",
       "      <td>0.0</td>\n",
       "      <td>0.0</td>\n",
       "      <td>...</td>\n",
       "      <td>0.0</td>\n",
       "      <td>0.0</td>\n",
       "      <td>0.0</td>\n",
       "      <td>0.0</td>\n",
       "      <td>0.0</td>\n",
       "      <td>0.0</td>\n",
       "      <td>0.0</td>\n",
       "      <td>0.0</td>\n",
       "      <td>0.0</td>\n",
       "      <td>0.0</td>\n",
       "    </tr>\n",
       "    <tr>\n",
       "      <th>at achieving the modest , crowd-pleasing goals it sets for itself</th>\n",
       "      <td>0.0</td>\n",
       "      <td>0.0</td>\n",
       "      <td>0.0</td>\n",
       "      <td>0.0</td>\n",
       "      <td>0.0</td>\n",
       "      <td>0.0</td>\n",
       "      <td>0.0</td>\n",
       "      <td>0.0</td>\n",
       "      <td>0.0</td>\n",
       "      <td>0.0</td>\n",
       "      <td>...</td>\n",
       "      <td>0.0</td>\n",
       "      <td>0.0</td>\n",
       "      <td>0.0</td>\n",
       "      <td>0.0</td>\n",
       "      <td>0.0</td>\n",
       "      <td>0.0</td>\n",
       "      <td>0.0</td>\n",
       "      <td>0.0</td>\n",
       "      <td>0.0</td>\n",
       "      <td>0.0</td>\n",
       "    </tr>\n",
       "    <tr>\n",
       "      <th>a patient viewer</th>\n",
       "      <td>0.0</td>\n",
       "      <td>0.0</td>\n",
       "      <td>0.0</td>\n",
       "      <td>0.0</td>\n",
       "      <td>0.0</td>\n",
       "      <td>0.0</td>\n",
       "      <td>0.0</td>\n",
       "      <td>0.0</td>\n",
       "      <td>0.0</td>\n",
       "      <td>0.0</td>\n",
       "      <td>...</td>\n",
       "      <td>0.0</td>\n",
       "      <td>0.0</td>\n",
       "      <td>0.0</td>\n",
       "      <td>0.0</td>\n",
       "      <td>0.0</td>\n",
       "      <td>0.0</td>\n",
       "      <td>0.0</td>\n",
       "      <td>0.0</td>\n",
       "      <td>0.0</td>\n",
       "      <td>0.0</td>\n",
       "    </tr>\n",
       "    <tr>\n",
       "      <th>this new jangle of noise , mayhem and stupidity must be a serious contender for the title .</th>\n",
       "      <td>0.0</td>\n",
       "      <td>0.0</td>\n",
       "      <td>0.0</td>\n",
       "      <td>0.0</td>\n",
       "      <td>0.0</td>\n",
       "      <td>0.0</td>\n",
       "      <td>0.0</td>\n",
       "      <td>0.0</td>\n",
       "      <td>0.0</td>\n",
       "      <td>0.0</td>\n",
       "      <td>...</td>\n",
       "      <td>0.0</td>\n",
       "      <td>0.0</td>\n",
       "      <td>0.0</td>\n",
       "      <td>0.0</td>\n",
       "      <td>0.0</td>\n",
       "      <td>0.0</td>\n",
       "      <td>0.0</td>\n",
       "      <td>0.0</td>\n",
       "      <td>0.0</td>\n",
       "      <td>0.0</td>\n",
       "    </tr>\n",
       "  </tbody>\n",
       "</table>\n",
       "<p>67349 rows × 13774 columns</p>\n",
       "</div>"
      ],
      "text/plain": [
       "                                                    000   10  100  101  103  \\\n",
       "hide new secretions from the parental units         0.0  0.0  0.0  0.0  0.0   \n",
       "contains no wit , only labored gags                 0.0  0.0  0.0  0.0  0.0   \n",
       "that loves its characters and communicates some...  0.0  0.0  0.0  0.0  0.0   \n",
       "remains utterly satisfied to remain the same th...  0.0  0.0  0.0  0.0  0.0   \n",
       "on the worst revenge-of-the-nerds clichés the f...  0.0  0.0  0.0  0.0  0.0   \n",
       "...                                                 ...  ...  ...  ...  ...   \n",
       "a delightful comedy                                 0.0  0.0  0.0  0.0  0.0   \n",
       "anguish , anger and frustration                     0.0  0.0  0.0  0.0  0.0   \n",
       "at achieving the modest , crowd-pleasing goals ...  0.0  0.0  0.0  0.0  0.0   \n",
       "a patient viewer                                    0.0  0.0  0.0  0.0  0.0   \n",
       "this new jangle of noise , mayhem and stupidity...  0.0  0.0  0.0  0.0  0.0   \n",
       "\n",
       "                                                    105  10th   11  110  112  \\\n",
       "hide new secretions from the parental units         0.0   0.0  0.0  0.0  0.0   \n",
       "contains no wit , only labored gags                 0.0   0.0  0.0  0.0  0.0   \n",
       "that loves its characters and communicates some...  0.0   0.0  0.0  0.0  0.0   \n",
       "remains utterly satisfied to remain the same th...  0.0   0.0  0.0  0.0  0.0   \n",
       "on the worst revenge-of-the-nerds clichés the f...  0.0   0.0  0.0  0.0  0.0   \n",
       "...                                                 ...   ...  ...  ...  ...   \n",
       "a delightful comedy                                 0.0   0.0  0.0  0.0  0.0   \n",
       "anguish , anger and frustration                     0.0   0.0  0.0  0.0  0.0   \n",
       "at achieving the modest , crowd-pleasing goals ...  0.0   0.0  0.0  0.0  0.0   \n",
       "a patient viewer                                    0.0   0.0  0.0  0.0  0.0   \n",
       "this new jangle of noise , mayhem and stupidity...  0.0   0.0  0.0  0.0  0.0   \n",
       "\n",
       "                                                    ...  zishe  ziyi  zoe  \\\n",
       "hide new secretions from the parental units         ...    0.0   0.0  0.0   \n",
       "contains no wit , only labored gags                 ...    0.0   0.0  0.0   \n",
       "that loves its characters and communicates some...  ...    0.0   0.0  0.0   \n",
       "remains utterly satisfied to remain the same th...  ...    0.0   0.0  0.0   \n",
       "on the worst revenge-of-the-nerds clichés the f...  ...    0.0   0.0  0.0   \n",
       "...                                                 ...    ...   ...  ...   \n",
       "a delightful comedy                                 ...    0.0   0.0  0.0   \n",
       "anguish , anger and frustration                     ...    0.0   0.0  0.0   \n",
       "at achieving the modest , crowd-pleasing goals ...  ...    0.0   0.0  0.0   \n",
       "a patient viewer                                    ...    0.0   0.0  0.0   \n",
       "this new jangle of noise , mayhem and stupidity...  ...    0.0   0.0  0.0   \n",
       "\n",
       "                                                    zombie  zone  zoning  \\\n",
       "hide new secretions from the parental units            0.0   0.0     0.0   \n",
       "contains no wit , only labored gags                    0.0   0.0     0.0   \n",
       "that loves its characters and communicates some...     0.0   0.0     0.0   \n",
       "remains utterly satisfied to remain the same th...     0.0   0.0     0.0   \n",
       "on the worst revenge-of-the-nerds clichés the f...     0.0   0.0     0.0   \n",
       "...                                                    ...   ...     ...   \n",
       "a delightful comedy                                    0.0   0.0     0.0   \n",
       "anguish , anger and frustration                        0.0   0.0     0.0   \n",
       "at achieving the modest , crowd-pleasing goals ...     0.0   0.0     0.0   \n",
       "a patient viewer                                       0.0   0.0     0.0   \n",
       "this new jangle of noise , mayhem and stupidity...     0.0   0.0     0.0   \n",
       "\n",
       "                                                    zoom  zwick  zzzzzzzzz  \\\n",
       "hide new secretions from the parental units          0.0    0.0        0.0   \n",
       "contains no wit , only labored gags                  0.0    0.0        0.0   \n",
       "that loves its characters and communicates some...   0.0    0.0        0.0   \n",
       "remains utterly satisfied to remain the same th...   0.0    0.0        0.0   \n",
       "on the worst revenge-of-the-nerds clichés the f...   0.0    0.0        0.0   \n",
       "...                                                  ...    ...        ...   \n",
       "a delightful comedy                                  0.0    0.0        0.0   \n",
       "anguish , anger and frustration                      0.0    0.0        0.0   \n",
       "at achieving the modest , crowd-pleasing goals ...   0.0    0.0        0.0   \n",
       "a patient viewer                                     0.0    0.0        0.0   \n",
       "this new jangle of noise , mayhem and stupidity...   0.0    0.0        0.0   \n",
       "\n",
       "                                                    élan  \n",
       "hide new secretions from the parental units          0.0  \n",
       "contains no wit , only labored gags                  0.0  \n",
       "that loves its characters and communicates some...   0.0  \n",
       "remains utterly satisfied to remain the same th...   0.0  \n",
       "on the worst revenge-of-the-nerds clichés the f...   0.0  \n",
       "...                                                  ...  \n",
       "a delightful comedy                                  0.0  \n",
       "anguish , anger and frustration                      0.0  \n",
       "at achieving the modest , crowd-pleasing goals ...   0.0  \n",
       "a patient viewer                                     0.0  \n",
       "this new jangle of noise , mayhem and stupidity...   0.0  \n",
       "\n",
       "[67349 rows x 13774 columns]"
      ]
     },
     "execution_count": 16,
     "metadata": {},
     "output_type": "execute_result"
    }
   ],
   "source": [
    "tfidf_df"
   ]
  },
  {
   "cell_type": "code",
   "execution_count": 17,
   "id": "9f7987ae-6606-4377-9fc0-add3680b9d91",
   "metadata": {
    "tags": []
   },
   "outputs": [
    {
     "data": {
      "text/html": [
       "<div>\n",
       "<style scoped>\n",
       "    .dataframe tbody tr th:only-of-type {\n",
       "        vertical-align: middle;\n",
       "    }\n",
       "\n",
       "    .dataframe tbody tr th {\n",
       "        vertical-align: top;\n",
       "    }\n",
       "\n",
       "    .dataframe thead th {\n",
       "        text-align: right;\n",
       "    }\n",
       "</style>\n",
       "<table border=\"1\" class=\"dataframe\">\n",
       "  <thead>\n",
       "    <tr style=\"text-align: right;\">\n",
       "      <th></th>\n",
       "      <th>word</th>\n",
       "    </tr>\n",
       "  </thead>\n",
       "  <tbody>\n",
       "    <tr>\n",
       "      <th>0</th>\n",
       "      <td>000</td>\n",
       "    </tr>\n",
       "    <tr>\n",
       "      <th>1</th>\n",
       "      <td>10</td>\n",
       "    </tr>\n",
       "    <tr>\n",
       "      <th>2</th>\n",
       "      <td>100</td>\n",
       "    </tr>\n",
       "    <tr>\n",
       "      <th>3</th>\n",
       "      <td>101</td>\n",
       "    </tr>\n",
       "    <tr>\n",
       "      <th>4</th>\n",
       "      <td>103</td>\n",
       "    </tr>\n",
       "    <tr>\n",
       "      <th>...</th>\n",
       "      <td>...</td>\n",
       "    </tr>\n",
       "    <tr>\n",
       "      <th>13769</th>\n",
       "      <td>zoning</td>\n",
       "    </tr>\n",
       "    <tr>\n",
       "      <th>13770</th>\n",
       "      <td>zoom</td>\n",
       "    </tr>\n",
       "    <tr>\n",
       "      <th>13771</th>\n",
       "      <td>zwick</td>\n",
       "    </tr>\n",
       "    <tr>\n",
       "      <th>13772</th>\n",
       "      <td>zzzzzzzzz</td>\n",
       "    </tr>\n",
       "    <tr>\n",
       "      <th>13773</th>\n",
       "      <td>élan</td>\n",
       "    </tr>\n",
       "  </tbody>\n",
       "</table>\n",
       "<p>13774 rows × 1 columns</p>\n",
       "</div>"
      ],
      "text/plain": [
       "            word\n",
       "0            000\n",
       "1             10\n",
       "2            100\n",
       "3            101\n",
       "4            103\n",
       "...          ...\n",
       "13769     zoning\n",
       "13770       zoom\n",
       "13771      zwick\n",
       "13772  zzzzzzzzz\n",
       "13773       élan\n",
       "\n",
       "[13774 rows x 1 columns]"
      ]
     },
     "execution_count": 17,
     "metadata": {},
     "output_type": "execute_result"
    }
   ],
   "source": [
    "vocabulary_df"
   ]
  },
  {
   "cell_type": "markdown",
   "id": "6d7f573e-7734-4ef2-8cb4-6dfdab288a27",
   "metadata": {},
   "source": [
    "##### Code explanation:\n",
    "\n",
    "The above code demonstrates how to create a TF-IDF (Term Frequency-Inverse Document Frequency) representation for our dataset. To do that, we firstly import the necessary libraries, namely pandas for data manipulation and sklearn's TfidfVectorizer for creating the TF-IDF representation. Then, we assume that the 'sentence' column in the dataframe 'train_df' contains the text of movie reviews, and ask the code to extract this data into a list called 'sentence_data'. Once done, we create the TfidfVectorizer instance with the parameter 'stop_words' set to 'english', which removes common English stop words during vectorization. The vectorizer is then fitted on the text data ('sentence_data') using the 'fit_transform' method, which allows the code to learn the vocabulary of the corpus and transforms the text data into TF-IDF representation. The vocabulary is then obtained using the 'get_feature_names_out' method, which will allow us to create a vocabulary dataframe 'vocabulary_df' to store the vocabulary, where each row corresponds to a unique word in the corpus. Then, the TF-IDF representation obtained from the vectorizer is converted into a dataframe called 'tfidf_df' for visualization purposes. Each row represents a review, and each column represents a unique word, with the cell values indicating the TF-IDF score for each word in each document. Finally, we display both the TF-IDF dataframe and the vocabulary dataframe to visualize the TF-IDF representation and the learned vocabulary, respectively."
   ]
  },
  {
   "cell_type": "markdown",
   "id": "98dc7bf8-1beb-4c7c-819b-ac6470c32443",
   "metadata": {},
   "source": [
    "#### b) Choose the most appropriate method based on its effectiveness in capturing the sentiment information. Consider providing explanations or justifications for your choices."
   ]
  },
  {
   "cell_type": "markdown",
   "id": "f3c3ac64-7cba-4722-a9ef-ff38a3cb8286",
   "metadata": {},
   "source": [
    "##### Recommendation:\n",
    "\n",
    "Considering the efficiency and effectiveness of both methods, as well as our training dataset label distribution, TF-IDF vectorization appears to be more suitable for our assignment. However, having a 55.78% for positive reviews and 44.22% for negative reviews, the choice between CountVectorizer and TF-IDF vectorization requires careful consideration. \n",
    "\n",
    "Indeed, as previously discussed, CountVectorizer method, while simple and quick to implement, treats each word independently and does not consider the importance of terms relative to their frequency across the entire corpus. This can lead to less accurate representations, especially in cases of stopwords. Additionally, it does not take into account the rarity of terms across documents, potentially resulting in less discriminative features.\n",
    "\n",
    "On the other hand, TF-IDF vectorization addresses these limitations by combining the term frequency (TF) and inverse document frequency (IDF) measures. TF-IDF assigns higher weights to terms that are frequent in a document but rare in the corpus, capturing their importance in representing the document. This results in more informative and more discriminative representations, as terms that are common across all documents are downweighted.\n",
    "\n",
    "Given that our task involves sentiment analysis on a large dataset of movie reviews, the enhanced representation provided by TF-IDF is crucial. Sentiment analysis requires capturing nuanced relationships between words and their importance in conveying sentiment. TF-IDF, with its ability to consider both term frequency and rarity across documents, offers a more accurate representation of the text data. Additionally, TF-IDF is better suited for handling larger datasets, as it provides improved discrimination between terms and reduces the risk of overfitting.\n",
    "\n",
    "Therefore, for our code, which likely involves sentiment analysis on a large dataset of movie reviews, with a varying distribution of positive and negative labels, TF-IDF vectorization would be a great choice for text representation."
   ]
  },
  {
   "cell_type": "markdown",
   "id": "e9d28c4b-730b-42fc-8620-ef55bf927b35",
   "metadata": {},
   "source": [
    "Before making any decision, we now want to compare both efficiency and effectiveness of our methods: "
   ]
  },
  {
   "cell_type": "code",
   "execution_count": 18,
   "id": "4ba257d5-83b1-46df-b621-7f5c70ec2a47",
   "metadata": {
    "tags": []
   },
   "outputs": [
    {
     "name": "stdout",
     "output_type": "stream",
     "text": [
      "Accuracy using CountVectorizer: 0.8929472902746844\n",
      "Time taken using CountVectorizer: 2.5991508960723877 seconds\n",
      "Accuracy using TF-IDFVectorizer: 0.8853749072011878\n",
      "Time taken using TF-IDFVectorizer: 1.930722951889038 seconds\n"
     ]
    }
   ],
   "source": [
    "# Separate the features (X) and labels (y)\n",
    "X = train_df['sentence'].tolist()\n",
    "y = train_df['label'].tolist()\n",
    "\n",
    "# Split the dataset into train and test sets\n",
    "X_train, X_test, y_train, y_test = train_test_split(X, y, test_size=0.2, random_state=42)\n",
    "\n",
    "# Train and evaluate using CountVectorizer\n",
    "start_time_cv = time.time()\n",
    "vectorizer_cv = CountVectorizer(lowercase=True)\n",
    "X_train_cv = vectorizer_cv.fit_transform(X_train)\n",
    "X_test_cv = vectorizer_cv.transform(X_test)\n",
    "clf_cv = LogisticRegression(max_iter=1000)\n",
    "clf_cv.fit(X_train_cv, y_train)\n",
    "y_pred_cv = clf_cv.predict(X_test_cv)\n",
    "accuracy_cv = accuracy_score(y_test, y_pred_cv)\n",
    "end_time_cv = time.time()\n",
    "time_taken_cv = end_time_cv - start_time_cv\n",
    "\n",
    "# Train and evaluate using TF-IDFVectorizer\n",
    "start_time_tfidf = time.time()\n",
    "vectorizer_tfidf = TfidfVectorizer(lowercase=True)\n",
    "X_train_tfidf = vectorizer_tfidf.fit_transform(X_train)\n",
    "X_test_tfidf = vectorizer_tfidf.transform(X_test)\n",
    "clf_tfidf = LogisticRegression(max_iter=1000)\n",
    "clf_tfidf.fit(X_train_tfidf, y_train)\n",
    "y_pred_tfidf = clf_tfidf.predict(X_test_tfidf)\n",
    "accuracy_tfidf = accuracy_score(y_test, y_pred_tfidf)\n",
    "end_time_tfidf = time.time()\n",
    "time_taken_tfidf = end_time_tfidf - start_time_tfidf\n",
    "\n",
    "# Print the results\n",
    "print(\"Accuracy using CountVectorizer:\", accuracy_cv)\n",
    "print(\"Time taken using CountVectorizer:\", time_taken_cv, \"seconds\")\n",
    "print(\"Accuracy using TF-IDFVectorizer:\", accuracy_tfidf)\n",
    "print(\"Time taken using TF-IDFVectorizer:\", time_taken_tfidf, \"seconds\")"
   ]
  },
  {
   "cell_type": "markdown",
   "id": "dcd206f3-1624-47be-b58e-c398ccb1960f",
   "metadata": {
    "tags": []
   },
   "source": [
    "##### Code explanation:\n",
    "\n",
    "The code above performs sentiment analysis using logistic regression classifiers trained on two different text representations: CountVectorizer and Term Frequency-Inverse Document Frequency (TF-IDF). \n",
    "\n",
    "To do that, we first import necessary libraries including pandas for data manipulation, train_test_split for splitting the dataset, logistic regression for classification, accuracy_score for evaluating model performance, and CountVectorizer and TfidfVectorizer for text representation. Then, we load the dataset train_df containing 'sentence' and 'label' columns, and split it into training and testing sets using train_test_split. After that, we use our predrefined vectorizer_cv to transform the training and testing text data into CountVectorizer representation (X_train_cv and X_test_cv) and finally train a logistic regression classifier (clf_cv) on our representation. After that, we do the same for TF-IDF representation, where we transform the training and testing text data into TF-IDF representation (X_train_tfidf and X_test_tfidf) and train a logistic regression classifier (clf_tfidf) on it.\n",
    "\n",
    "Once done, we evaluate the model performance by predicting the labels of the testing set using both classifiers (clf_cv and clf_tfidf) and calculate the accuracy scores for both models using accuracy_score. Then, we measure the computational time taken to convert the validation set (X_val) into CountVectorizer and TF-IDF representations. Finally, we print the accuracy scores and computational time taken for converting the validation set into CounterVectorizer and TF-IDF representations of both models. \n",
    "\n",
    "Note 3: In our above code, X_train and y_train are used for training the model, while X_test and y_test are used for evaluating the trained model's performance. The variables X_train and X_test hold the features for the training and testing sets, respectively. Each row in X_train or X_test represents a sample (movie review), and each column represents a different aspect of that sample (words). We use X_train to teach the model and X_test to see how well it learned. Regarding y_train and y_test variables, these hold the corresponding labels for the training and testing sets, respectively. Each value in y_train or y_test represents the true sentiment of the corresponding sample in X_train or X_test. We use y_train to teach the model what each sample's category is, and y_test to check if the model predicted the categories correctly."
   ]
  },
  {
   "cell_type": "markdown",
   "id": "cd76e493-8dd9-4918-b260-04ff062b4a3f",
   "metadata": {},
   "source": [
    "##### Discussion: \n",
    "\n",
    "Based on the provided results, we notice that both ContVectorizer and TF-IDF representations took almost the same amount of time to compute, with CountVectorizer (2.36 seconds) being slightly slower than TF-IDF(1.73 seconds). ##Therefore, the difference in computational time is negligible. ## However, in terms of accuracy, the logistic regression model trained on the CountVectorizer representation is slightly higher (0.89) compared to the TF-IDF representation (0.88). This indicates that the model performed better on the validation set when using the CountVectorizer representation. Therefore, based on these results, if we prioritize accuracy, the CountVectorizer representation appears to be more accurate and better to use for this specific dataset and task. \n",
    "\n",
    "\n",
    "Note 3: Prior to developping the above code, we generated the accuracy for both CountVectorizer and TF-IDF while using our training dataset removing stopwords. We noticed that when stop words are removed, the accuracy of both CountVectorizer(0.88) and TF-IDF(0.87) is lower compared to when stop words are retained (0.89 and 0.88 respectively). This suggests that stop words might contain some valuable information for sentiment analysis, and removing them reduces the model's performance. Moreover, when stop words are removed, the computational time for both CountVectorizer (1.35 seconds) and TF-IDF(1.40 seconds) representations is lower compared to when stop words are retained (2.36 seconds and 1.73 seconds respectively). This is likely due to the larger vocabulary size when retaining stop words. Please note that our results align with our Note 2. \n",
    "However, we notice that whether we remove or retain stopwords, the accuracy and computational time of both representations are very close and the CountVectorizer representation is always the most accurate. Therefore, we will be using the ContVectorizer representation to run our model. "
   ]
  },
  {
   "cell_type": "markdown",
   "id": "567b3fde-dd51-43fb-88f2-066e36487d0a",
   "metadata": {},
   "source": [
    "## III - The machine learning model of choice (15 marks). "
   ]
  },
  {
   "cell_type": "markdown",
   "id": "b8e1d018-82e9-40dc-bd34-ab71055f3fcc",
   "metadata": {},
   "source": [
    "#### a) Compare and contrast the efficiency of at least two models for classification we have studied in class."
   ]
  },
  {
   "cell_type": "markdown",
   "id": "1a68ff79-89eb-44b4-bf27-28bc4a5c9f27",
   "metadata": {},
   "source": [
    "Based on the analysis above, we have determined that when comparing metrics such as accuracy, precision, recall, and F1-score, it is essential to divide our training dataset into separate train and test subsets. For subsequent questions, please refer to the following data split."
   ]
  },
  {
   "cell_type": "markdown",
   "id": "e13994f8-c561-447f-afec-36b96c9464a3",
   "metadata": {},
   "source": [
    "In the below code, we aim to split our data set into random train and test subsets. By default,  80% of our training dataset is reserved for training and the 20% for testing. This aligns with our previous code that aimed at comparing both efficiency and effectiveness of our CountVectorizer and TF-IDF representation methods."
   ]
  },
  {
   "cell_type": "code",
   "execution_count": 19,
   "id": "e1a37847-e846-40ce-8752-722904c3cebd",
   "metadata": {
    "tags": []
   },
   "outputs": [
    {
     "name": "stdout",
     "output_type": "stream",
     "text": [
      "Training set size: 53879\n",
      "Test set size: 13470\n"
     ]
    }
   ],
   "source": [
    "#We assume train_df contains our training dataset\n",
    "\n",
    "#We split the dataset into features (X) and labels (y)\n",
    "X = train_df['sentence']  #We assuming 'sentence' is the column containing the text data\n",
    "y = train_df['label']     #And 'label' is the column containing the corresponding labels\n",
    "\n",
    "#Then, we split the dataset into train and test subsets\n",
    "X_train, X_test, y_train, y_test = train_test_split(X, y, test_size=0.2, random_state=42)\n",
    "\n",
    "#We create new dataframes for the train and test subsets\n",
    "train80_df = pd.DataFrame({'sentence': X_train, 'label': y_train})\n",
    "test20_df = pd.DataFrame({'sentence': X_test, 'label': y_test})\n",
    "\n",
    "#Finally, we print the sizes of the train and test subsets\n",
    "print(\"Training set size:\", train80_df.shape[0])\n",
    "print(\"Test set size:\", test20_df.shape[0])\n"
   ]
  },
  {
   "cell_type": "markdown",
   "id": "2232993e-c45a-4cb5-913e-cff796e77512",
   "metadata": {},
   "source": [
    "##### Code explanation:\n",
    "\n",
    "The above code aims to split our training dataset into random train and test subsets. To do that, we first ask the code to import the required libraries such as pandas for data manipulation and train_test_split from sklearn.model_selection for splitting the dataset into train and test subsets. Assuming that train_df contains our original training dataset, it extracts the features (X) and labels (y) from it and assumes that the 'sentence' column contains the text data and the 'label' column contains the corresponding labels. Then, \n",
    "the code splits the dataset into train and test subsets using the train_test_split function. The test_size=0.2 argument specifies that 20% of the data will be reserved for testing, while the remaining 80% will be used for training. The random_state=42 argument ensures reproducibility by fixing the random seed, so the same split is obtained each time the code is run. Once done, we ask the code to create two new dataframe, train80_df and test20_df, to store the train and test subsets respectively. These dataframes consist of two columns: 'sentence' and 'label', representing the text data and corresponding labels. Finally, we ask the code to print the sizes of the train and test subsets for verification. "
   ]
  },
  {
   "cell_type": "markdown",
   "id": "bb7811c0-4343-4c3a-b44d-0ca0c0d82301",
   "metadata": {},
   "source": [
    "##### Discussion: \n",
    "\n",
    "The aim of this code is to split our training dataset into random train and test subsets. As per our previous code, we set a 80% of the training dataset to be reserved for training, while the remaining 20% to be allocated for testing. This splitting process is essential for evaluating the performance of machine learning models. The train subset is used to train the model, while the test subset is used to evaluate its performance and generalization ability on unseen data. This ensures that the model does not overfit to the training data and performs well on new, unseen data.\n",
    "\n",
    "From the above code output, we notice that our Training set size is 53879 while our Test set size is 13470. Knowing that our original training dataset had a size of 67349, we can confirm that our original training dataset has been split correctly, and that the train and test subsets have the expected sizes meaning that we can proceed with further analysis or modeling.\n"
   ]
  },
  {
   "cell_type": "code",
   "execution_count": 20,
   "id": "7182c1b7-25e0-4486-91da-d9457ea0ac65",
   "metadata": {
    "tags": []
   },
   "outputs": [
    {
     "data": {
      "text/html": [
       "<div>\n",
       "<style scoped>\n",
       "    .dataframe tbody tr th:only-of-type {\n",
       "        vertical-align: middle;\n",
       "    }\n",
       "\n",
       "    .dataframe tbody tr th {\n",
       "        vertical-align: top;\n",
       "    }\n",
       "\n",
       "    .dataframe thead th {\n",
       "        text-align: right;\n",
       "    }\n",
       "</style>\n",
       "<table border=\"1\" class=\"dataframe\">\n",
       "  <thead>\n",
       "    <tr style=\"text-align: right;\">\n",
       "      <th></th>\n",
       "      <th>sentence</th>\n",
       "      <th>label</th>\n",
       "    </tr>\n",
       "  </thead>\n",
       "  <tbody>\n",
       "    <tr>\n",
       "      <th>65374</th>\n",
       "      <td>lacks the inspiration of the original and has ...</td>\n",
       "      <td>0</td>\n",
       "    </tr>\n",
       "    <tr>\n",
       "      <th>14599</th>\n",
       "      <td>is also a film of freshness , imagination and ...</td>\n",
       "      <td>1</td>\n",
       "    </tr>\n",
       "    <tr>\n",
       "      <th>46387</th>\n",
       "      <td>far more alienating than involving</td>\n",
       "      <td>0</td>\n",
       "    </tr>\n",
       "    <tr>\n",
       "      <th>27872</th>\n",
       "      <td>the creative animation work may not look as fu...</td>\n",
       "      <td>0</td>\n",
       "    </tr>\n",
       "    <tr>\n",
       "      <th>40668</th>\n",
       "      <td>make for a winning , heartwarming yarn .</td>\n",
       "      <td>1</td>\n",
       "    </tr>\n",
       "    <tr>\n",
       "      <th>...</th>\n",
       "      <td>...</td>\n",
       "      <td>...</td>\n",
       "    </tr>\n",
       "    <tr>\n",
       "      <th>37194</th>\n",
       "      <td>its provocative conclusion</td>\n",
       "      <td>1</td>\n",
       "    </tr>\n",
       "    <tr>\n",
       "      <th>6265</th>\n",
       "      <td>an action film disguised as a war tribute is d...</td>\n",
       "      <td>0</td>\n",
       "    </tr>\n",
       "    <tr>\n",
       "      <th>54886</th>\n",
       "      <td>goes to absurd lengths to duck the very issues...</td>\n",
       "      <td>0</td>\n",
       "    </tr>\n",
       "    <tr>\n",
       "      <th>860</th>\n",
       "      <td>a perfect performance</td>\n",
       "      <td>1</td>\n",
       "    </tr>\n",
       "    <tr>\n",
       "      <th>15795</th>\n",
       "      <td>constantly pulling the rug from underneath us</td>\n",
       "      <td>1</td>\n",
       "    </tr>\n",
       "  </tbody>\n",
       "</table>\n",
       "<p>53879 rows × 2 columns</p>\n",
       "</div>"
      ],
      "text/plain": [
       "                                                sentence  label\n",
       "65374  lacks the inspiration of the original and has ...      0\n",
       "14599  is also a film of freshness , imagination and ...      1\n",
       "46387                far more alienating than involving       0\n",
       "27872  the creative animation work may not look as fu...      0\n",
       "40668          make for a winning , heartwarming yarn .       1\n",
       "...                                                  ...    ...\n",
       "37194                        its provocative conclusion       1\n",
       "6265   an action film disguised as a war tribute is d...      0\n",
       "54886  goes to absurd lengths to duck the very issues...      0\n",
       "860                               a perfect performance       1\n",
       "15795     constantly pulling the rug from underneath us       1\n",
       "\n",
       "[53879 rows x 2 columns]"
      ]
     },
     "execution_count": 20,
     "metadata": {},
     "output_type": "execute_result"
    }
   ],
   "source": [
    "train80_df"
   ]
  },
  {
   "cell_type": "code",
   "execution_count": 21,
   "id": "fcafefc1-ba0c-40e8-82ad-2258eaf7982b",
   "metadata": {
    "tags": []
   },
   "outputs": [
    {
     "data": {
      "text/html": [
       "<div>\n",
       "<style scoped>\n",
       "    .dataframe tbody tr th:only-of-type {\n",
       "        vertical-align: middle;\n",
       "    }\n",
       "\n",
       "    .dataframe tbody tr th {\n",
       "        vertical-align: top;\n",
       "    }\n",
       "\n",
       "    .dataframe thead th {\n",
       "        text-align: right;\n",
       "    }\n",
       "</style>\n",
       "<table border=\"1\" class=\"dataframe\">\n",
       "  <thead>\n",
       "    <tr style=\"text-align: right;\">\n",
       "      <th></th>\n",
       "      <th>sentence</th>\n",
       "      <th>label</th>\n",
       "    </tr>\n",
       "  </thead>\n",
       "  <tbody>\n",
       "    <tr>\n",
       "      <th>66730</th>\n",
       "      <td>with outtakes in which most of the characters ...</td>\n",
       "      <td>0</td>\n",
       "    </tr>\n",
       "    <tr>\n",
       "      <th>29890</th>\n",
       "      <td>enigma is well-made</td>\n",
       "      <td>1</td>\n",
       "    </tr>\n",
       "    <tr>\n",
       "      <th>45801</th>\n",
       "      <td>is ) so stoked to make an important film about...</td>\n",
       "      <td>0</td>\n",
       "    </tr>\n",
       "    <tr>\n",
       "      <th>29352</th>\n",
       "      <td>the closest thing to the experience of space t...</td>\n",
       "      <td>1</td>\n",
       "    </tr>\n",
       "    <tr>\n",
       "      <th>19858</th>\n",
       "      <td>lose their luster</td>\n",
       "      <td>0</td>\n",
       "    </tr>\n",
       "    <tr>\n",
       "      <th>...</th>\n",
       "      <td>...</td>\n",
       "      <td>...</td>\n",
       "    </tr>\n",
       "    <tr>\n",
       "      <th>34702</th>\n",
       "      <td>makes a nice album</td>\n",
       "      <td>1</td>\n",
       "    </tr>\n",
       "    <tr>\n",
       "      <th>23754</th>\n",
       "      <td>sent back</td>\n",
       "      <td>0</td>\n",
       "    </tr>\n",
       "    <tr>\n",
       "      <th>58408</th>\n",
       "      <td>do n't think so</td>\n",
       "      <td>0</td>\n",
       "    </tr>\n",
       "    <tr>\n",
       "      <th>5637</th>\n",
       "      <td>works beautifully as a movie without sacrifici...</td>\n",
       "      <td>1</td>\n",
       "    </tr>\n",
       "    <tr>\n",
       "      <th>26351</th>\n",
       "      <td>love with its overinflated mythology that it n...</td>\n",
       "      <td>0</td>\n",
       "    </tr>\n",
       "  </tbody>\n",
       "</table>\n",
       "<p>13470 rows × 2 columns</p>\n",
       "</div>"
      ],
      "text/plain": [
       "                                                sentence  label\n",
       "66730  with outtakes in which most of the characters ...      0\n",
       "29890                               enigma is well-made       1\n",
       "45801  is ) so stoked to make an important film about...      0\n",
       "29352  the closest thing to the experience of space t...      1\n",
       "19858                                 lose their luster       0\n",
       "...                                                  ...    ...\n",
       "34702                                makes a nice album       1\n",
       "23754                                         sent back       0\n",
       "58408                                   do n't think so       0\n",
       "5637   works beautifully as a movie without sacrifici...      1\n",
       "26351  love with its overinflated mythology that it n...      0\n",
       "\n",
       "[13470 rows x 2 columns]"
      ]
     },
     "execution_count": 21,
     "metadata": {},
     "output_type": "execute_result"
    }
   ],
   "source": [
    "test20_df"
   ]
  },
  {
   "cell_type": "markdown",
   "id": "c4cef469-fc5f-4e7a-b19d-8afa0d45c1dd",
   "metadata": {},
   "source": [
    "For this question, we will be comparing and contrasting the efficiency of Naive Bayes and Logistic Regression model classification for movie reviews in the dataset.\n",
    "\n",
    "First, we will examine each method individually before making a final comparison and recommendation.\n",
    "\n",
    "##### Naive Bayes:\n",
    "\n",
    "Naive Bayes is a simple probabilistic classifier based on Bayes' theorem with the assumption of independence between features. It is commonly used for classification tasks, especially in NLP and text classification (Ray, 2024). It consists of multiple steps such as data preprocessing which aims to clean and preprocess our dataset, including tokenization, lowercasing, and removing stop words. Then, it converts the text data into numerical feature vectors using techniques such as CountVectorizer or TF-IDF (Grad blog, no date). Moreover, it estimates the conditional probabilities of each feature given the class label using the training data, calculates the posterior probability of each class given the features using Bayes' theorem and selects the class with the highest probability. Once done, it finally evaluate the performance of the model using metrics such as accuracy, precision, recall, and F1-scoreup (Turing, 2022).\n",
    "\n",
    "This method is straightforward to implement and understand, computationally efficient and can handle large datasets with high-dimensional feature spaces, as it has an efficient memory. Therefore, it can perform well even when some features are irrelevant or redundant, as long as they are conditionally independent given the class label. However, given that the model assumes that features are conditionally independent, it may not hold true in real-world datasets which can lead to suboptimal performance if features are highly correlated. In cases like this, it may provide poor estimates for rare events or classes with very few instances. This means that the model cannot capture interactions between features, which limits its ability to model complex relationships in the data and may not perform well with features that have complex distributions (Bele, 2023).\n",
    "\n",
    "\n",
    "##### Logistic Regression:\n",
    "\n",
    "Logistic Regression is a statistical model used for binary classification tasks, where the output variable  is categorical and has two possible outcomes. It estimates the probability that a given input belongs to a particular category based on one or more predictor variables (javatpoint, no date). It consists of multiple steps such as cleaning and preprocessing the dataset, including handling missing values, encoding categorical variables, and scaling numerical features if necessary. Then, the next step consists of selecting relevant features or performing dimensionality reduction techniques to reduce the number of input variables. Subsequently, it estimates the parameters of the logistic regression model using training data through optimization algorithms such as gradient descent or maximum likelihood estimation. Finally, the performance of the trained model is assessed using evaluation metrics such as accuracy, precision, recall, F1-score, and the trained logistic regression model is used to make predictions on new data by estimating the probability of the outcome variable belonging to a particular class (Bhor, 2024).\n",
    "\n",
    "This method is easy to interpret and understand, making it suitable for explaining the relationship between predictors and the target variable. It also is computationally efficient and can handle large datasets with a relatively low computational cost and provides probabilistic outputs, allowing easy interpretation of model confidence levels. Moreover, this method can estimate the importance of features in predicting the outcome by examining the coefficients of the model and perform well even when there is noise in the data (Kaggle, no date).\n",
    "However, Logistic Regression assumes a linear relationship between the independent variables and the log odds of the dependent variable. It may not perform well if the relationship is non-linear. Indeed, it cannot capture complex relationships between features as it is a linear model and may underperform when dealing with highly non-linear data. It is also highly sensitive to outliers in the data as they can disproportionately influence the estimated coefficients, potentially leading to biased predictions. Finally, as it is inherently a binary classifier it may require extensions or modifications for multi-class classification tasks (GfG, 2023).\n",
    "\n",
    "\n",
    "##### Comparison:\n",
    "Naive Bayes and Logistic Regression are both popular classification methods with distinct characteristics. Naive Bayes is known for its simplicity and computational efficiency, assuming feature independence given the class label. This makes it fast to train and highly scalable, particularly suited for large datasets with high-dimensional feature spaces. On the other hand, Logistic Regression offers more flexibility by modeling the probability of a binary outcome based on predictor variables. While still relatively simple, it can capture non-linear relationships between features and the target variable. However, Logistic Regression may be slower to train compared to Naive Bayes, especially with large datasets, and it can be sensitive to multicollinearity and irrelevant features. Both models perform well on imbalanced data, but Naive Bayes is particularly adept when class separation is distinct.  "
   ]
  },
  {
   "cell_type": "markdown",
   "id": "ab1c4359-122f-45da-9c85-382edc2c488c",
   "metadata": {},
   "source": [
    "##### Recommendation:\n",
    "\n",
    "Based on the characteristics of our training dataset, both Naive Bayes and Logistic Regression can be viable options.\n",
    "\n",
    "Naive Bayes is known for its simplicity, fast training speed, and robust performance on imbalanced datasets, particularly when class separation is distinct. Given that the training dataset exhibit some class imbalance, with a more pronounced difference, Naive Bayes could effectively capture the class distributions and perform well in classification tasks.\n",
    "\n",
    "Logistic Regression, on the other hand, offers more flexibility and can capture complex relationships between features and the target variable. While it may require more computational resources and could be sensitive to multicollinearity, it could potentially provide better discrimination between classes and better handle subtle differences in the dataset.\n",
    "\n",
    "Ultimately, the choice between Naive Bayes and Logistic Regression will depend on the specific objectives of the classification task, the desired interpretability of the model, and the available computational resources. If simplicity and efficiency are prioritized, Naive Bayes may be the preferred choice. However, if flexibility and the ability to capture more complex relationships are necessary, Logistic Regression could be more suitable. Therefore, we will experiment with both models and evaluate their performance metrics such as accuracy, precision, recall, and F1-score to determine which one best meets the requirements of our task."
   ]
  },
  {
   "cell_type": "markdown",
   "id": "325b3003-9040-4c20-8b96-fc7cd339db17",
   "metadata": {},
   "source": [
    "#### b) Evaluate their performance in terms of accuracy, precision, recall, and F1-score."
   ]
  },
  {
   "cell_type": "markdown",
   "id": "6b90e2dd-40b2-4bcf-b75e-8ac33e06ee5f",
   "metadata": {},
   "source": [
    "We first evaluate the performance for Naive Bayes method while using both CountVectorizer and TfidfVectorizer representation."
   ]
  },
  {
   "cell_type": "code",
   "execution_count": 22,
   "id": "8e6e42a8-e525-4fa7-aeda-2155d9b68aa6",
   "metadata": {
    "tags": []
   },
   "outputs": [
    {
     "name": "stdout",
     "output_type": "stream",
     "text": [
      "Number of features: 13656\n",
      "Training Accuracy: 90.82%\n",
      "Test Accuracy: 87.97%\n",
      "Classification Report:\n",
      "              precision    recall  f1-score   support\n",
      "\n",
      "           0       0.87      0.85      0.86      5909\n",
      "           1       0.88      0.90      0.89      7561\n",
      "\n",
      "    accuracy                           0.88     13470\n",
      "   macro avg       0.88      0.88      0.88     13470\n",
      "weighted avg       0.88      0.88      0.88     13470\n",
      "\n"
     ]
    }
   ],
   "source": [
    "#We assume train80_df and test20_df are already created\n",
    "\n",
    "#We extract features (X) and labels (y) from the training and testing datasets\n",
    "X_train = train80_df['sentence']\n",
    "y_train = train80_df['label']\n",
    "X_test = test20_df['sentence']\n",
    "y_test = test20_df['label']\n",
    "\n",
    "#We convert text data into numerical feature vectors using TfidfVectorizer\n",
    "vectorizer_nb = TfidfVectorizer().fit(X_train)\n",
    "X_train_counts = vectorizer_nb.transform(X_train)\n",
    "X_test_counts = vectorizer_nb.transform(X_test)  \n",
    "\n",
    "#We print the number of features\n",
    "print(\"Number of features:\", X_train_counts.shape[1])\n",
    "\n",
    "#We then train Naive Bayes classifier\n",
    "naive_bayes_classifier = MultinomialNB()\n",
    "nb_model = naive_bayes_classifier.fit(X_train_counts, y_train)\n",
    "\n",
    "#And make predictions on the training data\n",
    "y_train_pred = naive_bayes_classifier.predict(X_train_counts)\n",
    "\n",
    "#Then, we evaluate performance on the training set\n",
    "train_accuracy = accuracy_score(y_train, y_train_pred) * 100\n",
    "print(\"Training Accuracy: {:.2f}%\".format(train_accuracy))\n",
    "\n",
    "#Make predictions on the test data\n",
    "y_test_pred = naive_bayes_classifier.predict(X_test_counts)\n",
    "\n",
    "#To then evaluate performance on the test set\n",
    "test_accuracy = accuracy_score(y_test, y_test_pred) * 100\n",
    "print(\"Test Accuracy: {:.2f}%\".format(test_accuracy))\n",
    "\n",
    "#We finally print the classification report\n",
    "print(\"Classification Report:\")\n",
    "print(classification_report(y_test, y_test_pred))"
   ]
  },
  {
   "cell_type": "markdown",
   "id": "cf435339-e646-401a-a1db-10b2d615ca75",
   "metadata": {
    "tags": []
   },
   "source": [
    "##### Code explanation: \n",
    "\n",
    "The above code performs text classification using a Multinomial Naive Bayes classifier. To do that, we ask the code to import necessary libraries such as pandas for data manipulation, TfidfVectorizer for converting text data into numerical feature vectors, MultinomialNB for for training the Multinomial Naive Bayes classifier, and accuracy_score, classification_report for evaluation metrics. We then ask the code to extract features (sentences) and labels from both our training (train80_df) and testing (test20_df) datasets. Once done, we ask the code to extract the feature (X_train) and label (y_train) columns from our train80_df dataframe. Then TfidfVectorizer is used to convert the text data into numerical feature vectors for both the training and testing data. fit is used on the training data (X_train) to learn the vocabulary, and transform is used on both training and testing data to transform the text into feature matrices based on the learned vocabulary. Then, we ask the code to print the number of features (unique words) in the training set using the shape attribute of the transformed training data. After that, the code initializes a Multinomial Naive Bayes classifier (naive_bayes_classifier) and trains it using the feature vectors (X_train_counts) and its corresponding labels (y_train). \n",
    "\n",
    "This leads the code to use the trained classifier to make predictions on the testing data (X_test_counts) to evaluate its performance, which consists in calculating the accuracy of the classifier by comparing the predicted labels (y_train_pred) with the actual labels (y_train). In other words, the Naive Bayes classifier is trained on the training data (X_train_counts) while predictions are made on the testing data (X_test_counts) using the trained classifier. Finally, we generate a classification report based on the classifier performance evaluation on the test set (test20_df) using metrics such as accuracy, precision, recall, and F1-score."
   ]
  },
  {
   "cell_type": "markdown",
   "id": "836bf0df-155f-42e0-927e-e51dbf773419",
   "metadata": {},
   "source": [
    "##### Discussion: \n",
    "\n",
    "The above results provide insights into the performance of a Naive Bayes classifier trained on sentiment analysis data. We notice that the classifier contains 13,656 features, meaning that it has a rich vocabulary to learn from, capturing a wide range of words or tokens present in the text data. Moreover, the high training accuracy of 90.82% indicates that the classifier has learned well from the training data. It correctly predicted the sentiment of over 90% of the samples in the training set. In terms of test accuracy (87.97%) suggests that the classifier generalizes reasonably well to unseen data. It correctly predicted the sentiment of nearly 88% of the samples in the test set. Then, our classification report indicated a reasonably high values for precision and recall for both classes (0 and 1) (0.87 for class 0/ 0.88 for class 1; 0.85 for class 0/ 0.90 for class 1, respectively). Indeed, higher precision and recall indicates fewer false positive and fewer false negative indicating a good balance between them. \n",
    "Finally, the F1-score, which is the harmonic mean of precision and recall, for both classes is relatively high, indicating good overall performance. \n",
    "\n",
    "\n",
    "Note 4: Prior to developing the code presented above, we decided to utilize the CountVectorizer representation for our model. Upon evaluating the performance of Naive Bayes with CountVectorizer, we observed slightly lower overall performance compared to Naive Bayes with TfidfVectorizer. Specifically, the training accuracy was 89.69% and the test accuracy was 87.39% with CountVectorizer, while with TfidfVectorizer, the training accuracy was 90.82% and the test accuracy was 87.97%. However, upon examining the classification report, we found that the F1-scores for both classes 0 and 1 were similar between Naive Bayes with CountVectorizer and Naive Bayes with TfidfVectorizer (0.86 for class 0 and 0.89 for class 1). Nevertheless, the macro average and weighted average were slightly lower with CountVectorizer (0.87) compared to TfidfVectorizer (0.88). This suggests that while the two approaches perform similarly in terms of F1-score for individual classes, the TfidfVectorizer may offer a slight advantage in terms of overall performance metrics such as macro average and weighted average. However, the differences are relatively minor, and other factors such as computational efficiency and ease of implementation should also be considered when choosing between the two representations."
   ]
  },
  {
   "cell_type": "markdown",
   "id": "200a4a35-1a04-4c68-bc2a-fc4c1ddbcab1",
   "metadata": {},
   "source": [
    "We then evaluate the performance for Logistic Regression method with both CountVectorizer and TfidfVectorizer representation."
   ]
  },
  {
   "cell_type": "code",
   "execution_count": 23,
   "id": "5c24f072-bdbd-4d54-a69e-ee0c3ca85ec3",
   "metadata": {
    "tags": []
   },
   "outputs": [
    {
     "name": "stdout",
     "output_type": "stream",
     "text": [
      "Number of features: 13656\n",
      "Training Accuracy: 93.98%\n",
      "Test Accuracy: 89.29%\n",
      "Classification Report:\n",
      "              precision    recall  f1-score   support\n",
      "\n",
      "           0       0.89      0.87      0.88      5909\n",
      "           1       0.90      0.91      0.91      7561\n",
      "\n",
      "    accuracy                           0.89     13470\n",
      "   macro avg       0.89      0.89      0.89     13470\n",
      "weighted avg       0.89      0.89      0.89     13470\n",
      "\n"
     ]
    }
   ],
   "source": [
    "#We assume train80_df and test20_df are already created\n",
    "\n",
    "#We extract features (X) and labels (y) from the training and testing datasets\n",
    "X_train = train80_df['sentence']\n",
    "y_train = train80_df['label']\n",
    "X_test = test20_df['sentence']\n",
    "y_test = test20_df['label']\n",
    "\n",
    "#We convert text data into numerical feature vectors using CountVectorizer\n",
    "vectorizer_lr = CountVectorizer().fit(X_train)\n",
    "X_train_counts = vectorizer_lr.transform(X_train)\n",
    "X_test_counts = vectorizer_lr.transform(X_test)  \n",
    "\n",
    "#We print the number of features\n",
    "print(\"Number of features:\", X_train_counts.shape[1])\n",
    "\n",
    "#We then train Logistic Regression classifier\n",
    "logistic_regression_classifier = LogisticRegression(max_iter=1000)\n",
    "lr_model = logistic_regression_classifier.fit(X_train_counts, y_train)\n",
    "\n",
    "#And make predictions on the training data\n",
    "y_train_pred = logistic_regression_classifier.predict(X_train_counts)\n",
    "\n",
    "#Then, we evaluate performance on the training set\n",
    "train_accuracy = accuracy_score(y_train, y_train_pred) * 100\n",
    "print(\"Training Accuracy: {:.2f}%\".format(train_accuracy))\n",
    "\n",
    "#Make predictions on the test data\n",
    "y_test_pred = logistic_regression_classifier.predict(X_test_counts)\n",
    "\n",
    "#To then evaluate performance on the test set\n",
    "test_accuracy = accuracy_score(y_test, y_test_pred) * 100\n",
    "print(\"Test Accuracy: {:.2f}%\".format(test_accuracy))\n",
    "\n",
    "#We finally print the classification report\n",
    "print(\"Classification Report:\")\n",
    "print(classification_report(y_test, y_test_pred))"
   ]
  },
  {
   "cell_type": "markdown",
   "id": "28132041-5221-4c89-a2b1-65c617a185a8",
   "metadata": {},
   "source": [
    "##### Code explanation: \n",
    "\n",
    "To not reiterate the code explanation, it is similar to the above code but instead of using Naive Bayes, we use Logistic Regression classifier. \n"
   ]
  },
  {
   "cell_type": "markdown",
   "id": "9c16bb2a-9bdc-4109-80ed-2d5ad6a59a3c",
   "metadata": {},
   "source": [
    "##### Discussion: \n",
    "\n",
    "The above results provide insights into the performance of a Logistic Regression classifier trained on sentiment analysis data. We notice that the classifier contains 13,656 features, meaning that it has a rich vocabulary to learn from, capturing a wide range of words or tokens present in the text data. Moreover, the high training accuracy of 93.98% indicates that the classifier has learned well from the training data. It correctly predicted the sentiment of over 90% of the samples in the training set. In terms of test accuracy (89.29%) it suggests that the classifier generalizes reasonably well to unseen data. It correctly predicted the sentiment of nearly 89% of the samples in the test set. Then, our classification report indicates a reasonably high values for precision and recall for both classes (0 and 1) (0.89 for class 0/ 0.90 for class 1; 0.87 for class 0/ 0.91 for class 1, respectively). Indeed, higher precision and recall indicates fewer false positive and fewer false negative indicating a good balance between them. Finally, the F1-score, which is the harmonic mean of precision and recall, for both classes is relatively high, indicating good overall performance.\n",
    "\n",
    "Note 5: Prior to developing the code presented above, we decided to utilize the TfidfVectorizer representation for our model. Upon evaluating the performance of Logistic Regression with TfidfVectorizer, we observed slightly lower overall performance compared to Logistic Regression with CountVectorizer. Specifically, the training accuracy was 92.27% and the test accuracy was 88.54% with TfidfVectorizer, while with CountVectorizer, the training accuracy was 93.98% and the test accuracy was 89.29%. However, upon examining the classification report, we found that the F1-scores for both classes 0 and 1 were slightly higher with Logistic Regression with CountVectorizer (0.88 for class 0 and 0.91) than Logistic Regression with TfidfVectorizer (0.87 for class 0 and 0.90 for class 1). Moreover, the macro average and weighted average were slightly lower with TfIdfVectorizer (0.88 and 0.89 respectivevly) compared to CountVectorizer (0.89 and 0.89 respectively). \n",
    "This suggests that while TfidfVectorizer may offer a different perspective on the data, CountVectorizer might be more suitable for capturing certain nuances in the text data. However, the differences are relatively minor, and other factors such as computational efficiency and ease of implementation should also be considered when choosing between the two representations."
   ]
  },
  {
   "cell_type": "markdown",
   "id": "55088db8-4142-4475-ba8c-f5fdba9e5879",
   "metadata": {},
   "source": [
    "#### c) Discuss the strengths and weaknesses of each model and select the one that achieves the highest accuracy. "
   ]
  },
  {
   "cell_type": "markdown",
   "id": "27343ef2-b305-4165-b0b1-fa6051ede3ae",
   "metadata": {},
   "source": [
    "Based on our performance analysis, both Naive Bayes model with TfidfVectorizer and Logistic Regression model with CountVectorizer exhibit a rich vocabulary, trained on a dataset with 13,656 features, indicating a wide range of captured words from the trained data. While both models achieve high training accuracy, with Naive Bayes reaching 90.82% and Logistic Regression achieving 93.98%, they demonstrate good learning from the training data.\n",
    "\n",
    "In terms of test accuracy, both models perform reasonably well, with Naive Bayes achieving 87.97% and Logistic Regression reaching 89.29%. This indicates that both models demonstrates reasonable generalization to unseen data. Similarly, both models display high precision and recall for both classes, suggesting a good balance between false positives and false negatives. The F1-scores for both classes are also relatively high, indicating strong overall performance.\n",
    "\n",
    "However, Logistic Regression with CountVectorizer shows slightly higher F1-scores for individual classes compared to Naive Bayes with TfidfVectorizer. This could be attributed to Logistic Regression's ability to capture complex relationships between features and the target variable, indicating superior performance. \n",
    "\n",
    "Given the higher accuracy and slightly better performance metrics across all measures, Logistic Regression with CountVectorizer emerges as the preferred choice for our classification task. It strikes a balance between model complexity and performance, making it well-suited for our training dataset."
   ]
  },
  {
   "cell_type": "markdown",
   "id": "e2491343-1fad-495b-b906-1bf845836fdf",
   "metadata": {},
   "source": [
    "## IV - The hyper-parameter values of choice (15 marks). "
   ]
  },
  {
   "cell_type": "markdown",
   "id": "f021fc9f-6002-435f-a15f-3b21ad42ebe0",
   "metadata": {},
   "source": [
    "#### a) Explore at least two hyper-parameters for a given model."
   ]
  },
  {
   "cell_type": "markdown",
   "id": "a9d1a863-5c84-4cfd-b3a7-31ff6a55f913",
   "metadata": {},
   "source": [
    "For this question, we will be comparing and contrasting the efficiency of two hyper-parameters, Regularization Strength (C) and Class Weight, for Logistic Regression with CountVectorizer  model classification for movie reviews in our dataset.\n",
    "\n",
    "First, we will examine each method individually before making a final comparison and recommendation.\n",
    "\n",
    "##### C (Regularization Strength):\n",
    "\n",
    "Regularization Strength (C) serves as a pivotal hyperparameter in logistic regression, offering control over the amount of regularization applied to our model (scikit, 2024). By penalizing large coefficients, regularization effectively prevents overfitting, ensuring the model generalizes well to unseen data. In fact, the hyperparameter C represents the inverse of regularization strength, implying that lower values of C result in stronger regularization, curbing model complexity to prevent overfitting. Conversely, higher values of C weaken regularization, allowing the model to closely fit the training data (KDnuggets, no date).\n",
    "\n",
    "Effective tuning of the C hyperparameter involves several iterative steps. Initially, a range of values for C is selected, often through a wide-to-narrow search approach, with adjustments guided by performance results. Subsequently, a grid search is performed across the specified range to evaluate model performance for various C values. Utilizing cross-validation techniques, such as k-fold cross-validation, fvaluate the performance of the model for each hyperparameter setting, hence avoiding overfitting. Finally, the value of C yielding optimal performance on the validation set is identified and fine-tuned to achieve peak efficacy (Brownlee, 2020).\n",
    "\n",
    "By tuning C hyperparameter, we can control the regularization strength in logistic regression, to avoid overfitting and improve the model's generalization cability. This also allows us to adjust the trade-off between fitting the training data well and maintaining simplicity in the model to find the optimal balance for our specific dataset. Moreover, customization of regularization strength according to our dataset nuances fosters enhanced model adaptability and performance. However, despite tuning C offering substantial benefits, it comes with challenges. Indeed, performing a grid search over a range of C values can be computationally expensive, especially for large datasets or when using cross-validation. Moreover, there is an overfitting risk when performing an improper C tuning. Indeed, finding the optimal value of C is subjective and requires thoughtful consideration and validation to ensure that the model generalizes well to unseen data and avoid suboptimal choice (Avila, 2023). \n",
    "\n",
    "\n",
    "##### Class Weight:\n",
    "\n",
    "Class weight is a hyperparameter commonly employed in various machine learning algorithms, including logistic regression, to tackle imbalanced datasets effectively. This parameter allows us to assign different weights to each class in the training data, thereby enabling the model to prioritize learning from minority classes. By default, all classes are assigned equal weight (1.0), but adjusting these weights based on class frequencies helps address class imbalance issues (scikit, 2024). In logistic regression implementation within scikit-learn, the class_weight parameter can be set to 'balanced', automatically adjusting weights inversely proportional to class frequencies. This means assigning more weight to minority classes and less weight to majority classes, thereby enabling the model to focus on learning from underrepresented classes (scikit, 2024).\n",
    "\n",
    "The process involving this hyperparameter entails several steps. Initially, assessing the class distribution in the training dataset helps determine the extent of class imbalance. Subsequently, if significant imbalance exists, deciding on a weighting strategy involves assigning higher weights to minority classes. Once determined, class weights can be specified either manually or using the 'balanced' option. Finally, training the logistic regression model with the specified class weights allows for performance evaluation and comparison with unweighted models to assess the impact on overall performance (TensorFlow, no date).\n",
    "\n",
    "By implementing the class weight hyperparameter, which is relatively simple and straightforward, the issue of class imbalance is addressed by ensuring that the model allocates more attention to minority classes during training, thereby improving performance metrics such as accuracy, precision, recall, and F1-score, particularly on imbalanced datasets. However, the effectiveness of class weights depends on the degree of class imbalance. If the class distribution is highly skewed, assigning class weights may not be sufficient to address the imbalance effectively. Moreover, assigning high weights to minority classes may lead to overfitting, especially when the number of instances in these classes is very small as well as result in a loss of information from majority classes potentially leading to biased predictions. Therefore, rigorous validation and monitoring of model performance are essential to mitigate such risks (Canuma, 2023)."
   ]
  },
  {
   "cell_type": "markdown",
   "id": "f1a8f6c7-6b60-4ff3-89a5-6f484a2bdd49",
   "metadata": {},
   "source": [
    "#### b) Explain the rationale behind the selection of the explored hyperparameters by performing a systematic search and evaluation of different hyperparameter values to optimise the model's performance. "
   ]
  },
  {
   "cell_type": "markdown",
   "id": "ebb8f1b8-cee9-4754-bafa-8473f8d2dc95",
   "metadata": {},
   "source": [
    "The rationale behind the selection of the explored hyperparameters, C (Regularization Parameter) and Class Weight, is influenced by the characteristics of our training dataset (training set size (train80_df) of 53879 while test set size (test20_df) is 13470) and the observed model performance.\n",
    "\n",
    "##### Class Weight:\n",
    "\n",
    "Given the class imbalance in our dataset, where positive reviews are more prevalent than negative reviews (55.78% positive reviews vs. 44.22% negative reviews), it is essential to address this issue to prevent our model from being biased towards the majority class. To address this class imbalance, the Class Weight hyperparameter is particularly relevant. By exploring different weighting strategies for the classes, such as assigning higher weights to minority classes (in this case, the negative reviews) or using the 'balanced' option, we can ensure that our model gives equal consideration to all classes during training.\n",
    "Since logistic regression achieved high accuracy on the training set (93.98%), the Class Weight hyperparameter can further improve model performance by ensuring better handling of imbalanced classes, potentially leading to improved accuracy, precision, recall, and F1-score, particularly for the minority class. Indeed, the systematic search and evaluation of class weights allow us to identify the weighting strategy that leads to the best performance. Therefore, by adjusting the class weights based on the class frequencies in the training data, we can improve the model's ability to learn from minority class instances and make more accurate predictions on imbalanced datasets.\n",
    "\n",
    "##### C (Regularization Parameter):\n",
    "\n",
    "With high training accuracy (93.98%) and test accuracy (89.29%) that suggest that our model performs well on our dataset, there is a risk of overfitting, especially given the complexity of the model. Therefore, to optimize its performance further, tuning the Regularization Parameter (C) allows for balancing between fitting the training data well and preventing overfitting. By selecting an appropriate value for C, we can control the regularization strength, ensuring that the model generalizes well to unseen data while maintaining an optimal balance between model complexity and performance. Furthermore, our logistic regression model with CountVectorizer exhibits a rich vocabulary, capturing a wide range of words from the text data. This richness in vocabulary contributes to the high dimensionality of the feature space, with 13,656 features. In models with such a large number of features, regularization becomes even more critical to prevent overfitting. Through systematic search and evaluation of different values of the regularization parameter C, we can control the model's complexity and address potential overfitting issues. By varying the value of C and evaluating the model's performance using appropriate metrics, such as accuracy, precision, recall, and F1-score, we can identify the optimal value of C that balances model complexity and generalization performance. Therefore, tuning the regularization parameter (C) is essential for maximizing the effectiveness of logistic regression models, particularly in the context of sentiment analysis. By systematically exploring and evaluating different values of C, we ensure that the model not only fits the training data well but also generalizes effectively to unseen data, thereby enhancing its real-world applicability and performance.\n",
    "\n",
    "\n",
    "\n",
    "##### Recommendation: \n",
    "\n",
    "Given that our primary goal is to achieve high accuracy, both the Class Weight and the Regularization Parameter (C) hyperparameters can play crucial roles in improving model performance.\n",
    "\n",
    "Given the class imbalance in our dataset, where positive reviews are more prevalent than negative reviews, it is essential to address this issue to prevent our model from being biased towards the majority class. Therefore, by using Class Weight hyperparameter to explore different weighting strategies for the classes, such as assigning higher weights to the negative reviews (minority class) or using the 'balanced' option, we can ensure that our model gives equal consideration to all classes during training. This approach can lead to improved accuracy, precision, recall, and F1-score, particularly for the minority class. Therefore, adjusting the class weights based on the class frequencies in the training data can significantly enhance the model's ability to make accurate predictions on imbalanced datasets.\n",
    "\n",
    "On the other side, despite achieving high accuracy on both the training and test sets, there is a risk of overfitting, especially given the complexity of our model. To further optimize its performance, tuning the Regularization Parameter (C) allows for balancing between fitting the training data well and preventing overfitting. By selecting an appropriate value for C, we can control the regularization strength, ensuring that the model generalizes well to unseen data while maintaining an optimal balance between model complexity and performance. This becomes particularly crucial in logistic regression models with a rich vocabulary and a large number of features, where regularization becomes essential to prevent overfitting.\n",
    "\n",
    "Therefore, we will experiment our Logistic Regression with CountVectorizer with both hyperparameter and evaluate their performance metrics such as accuracy, precision, recall, and F1-score to determine which one results in the highest accuracy."
   ]
  },
  {
   "cell_type": "markdown",
   "id": "2fdeb260-8a87-4104-88ea-d9c7f76bb745",
   "metadata": {},
   "source": [
    "Logistic Regression with CountVectorizer with Class Weight hyperparameter:"
   ]
  },
  {
   "cell_type": "code",
   "execution_count": 24,
   "id": "3e7f4372-3e6e-4cf7-bbe4-dc37697231b3",
   "metadata": {
    "tags": []
   },
   "outputs": [
    {
     "name": "stdout",
     "output_type": "stream",
     "text": [
      "Training Accuracy: 94.00%\n",
      "Test Accuracy: 89.34%\n",
      "Classification Report:\n",
      "              precision    recall  f1-score   support\n",
      "\n",
      "           0       0.87      0.89      0.88      5909\n",
      "           1       0.92      0.89      0.90      7561\n",
      "\n",
      "    accuracy                           0.89     13470\n",
      "   macro avg       0.89      0.89      0.89     13470\n",
      "weighted avg       0.89      0.89      0.89     13470\n",
      "\n"
     ]
    }
   ],
   "source": [
    "#We train Logistic Regression classifier with Classweight hyperparameter\n",
    "logistic_regression_classifiercw = LogisticRegression(max_iter=1000, class_weight='balanced') \n",
    "lr_modelcw = logistic_regression_classifiercw.fit(X_train_counts, y_train)\n",
    "\n",
    "#We make predictions on the training data\n",
    "y_train_predcw = logistic_regression_classifiercw.predict(X_train_counts)\n",
    "\n",
    "#We then evaluate performance on the training set\n",
    "train_accuracycw = accuracy_score(y_train, y_train_predcw) * 100\n",
    "print(\"Training Accuracy: {:.2f}%\".format(train_accuracycw))\n",
    "\n",
    "#We make predictions on the test data\n",
    "y_test_predcw = logistic_regression_classifiercw.predict(X_test_counts)\n",
    "\n",
    "#Then, we evaluate performance on the test set\n",
    "test_accuracycw = accuracy_score(y_test, y_test_predcw) * 100\n",
    "print(\"Test Accuracy: {:.2f}%\".format(test_accuracycw))\n",
    "\n",
    "#Finally, we print the classification report\n",
    "print(\"Classification Report:\")\n",
    "print(classification_report(y_test, y_test_predcw))"
   ]
  },
  {
   "cell_type": "markdown",
   "id": "d2f50390-8d04-4a90-a505-fb5807500764",
   "metadata": {},
   "source": [
    "##### Code explanation:\n",
    "\n",
    "The above code is identical to the one used in Q3 for text classification using a Logistic Regression classifier. However, it includes an additional step where the logistic regression classifier is initialized with the class_weight parameter set to 'balanced', as discussed in Q4a. "
   ]
  },
  {
   "cell_type": "markdown",
   "id": "d550402f-e7e8-4c34-bc70-d07f225d4839",
   "metadata": {},
   "source": [
    "##### Discussion:\n",
    "\n",
    "The above results provide insights into the performance of our Logistic Regression with CountVectorizer with Class Weight hyperparameter. Upon examination, we notice that when employing balanced class weights, our model achieves a training accuracy of 94% and test accuracy of 89.34%. Comparing these results to our previous implementation without the class weight hyperparameter (93.98% and 89.29%, respectively), we note a slight improvement in both training and test accuracies. Moreover, a closer look at our classification report reveals reasonably high values for precision and recall across both classes (0 and 1). Specifically, we observe precision values of 0.87 for class 0 and 0.92 for class 1, along with recall values of 0.89 for class 0 and 0.89 for class 1. These metrics represent a slight improvment over our model that did not incorporate the class weight hyperparameter.\n",
    "\n",
    "Note 5: Please note that prior to developing the above code, we conducted an evaluation of our accuracy using different class weights. Specifically, we utilized the following parameter grid: param_grid = {'class_weight': [{0: 1.0, 1: 1.0}, {0: 1.0, 1: 2.0}, {0: 1.0, 1: 5.0}]}. The results of this evaluation revealed training accuracies of 93.98%, 92.29%, and 88.43%, and test accuracies of 89.29%, 88.00%, and 84.95%, respectively, for the corresponding class weights. Upon analysis, we determined that the best-performing class weight was {0: 1.0, 1: 1.0}, which yielded accuracy results similar to those obtained in Q3. Consequently, we have opted to automatically balance our class weight as discussed in Q4a, resulting in a more accurate model."
   ]
  },
  {
   "cell_type": "markdown",
   "id": "d436b54e-bef2-431a-ba5d-1d1e987f118a",
   "metadata": {},
   "source": [
    "Logistic Regression with CountVectorizer with Regularization (C) hyperparameter:"
   ]
  },
  {
   "cell_type": "code",
   "execution_count": 25,
   "id": "803939ae-4744-407e-8680-1e1adc96392e",
   "metadata": {
    "tags": []
   },
   "outputs": [
    {
     "name": "stdout",
     "output_type": "stream",
     "text": [
      "Training Accuracy: 93.98%\n",
      "Test Accuracy: 89.29%\n",
      "Classification Report:\n",
      "              precision    recall  f1-score   support\n",
      "\n",
      "           0       0.89      0.87      0.88      5909\n",
      "           1       0.90      0.91      0.91      7561\n",
      "\n",
      "    accuracy                           0.89     13470\n",
      "   macro avg       0.89      0.89      0.89     13470\n",
      "weighted avg       0.89      0.89      0.89     13470\n",
      "\n"
     ]
    }
   ],
   "source": [
    "#We train Logistic Regression classifier with Regularization Parameter (C)\n",
    "logistic_regression_classifierc = LogisticRegression(max_iter=1000, C=1.0) \n",
    "lr_modelc = logistic_regression_classifierc.fit(X_train_counts, y_train)\n",
    "\n",
    "#We make predictions on the training data\n",
    "y_train_predc = logistic_regression_classifierc.predict(X_train_counts)\n",
    "\n",
    "#We then evaluate performance on the training set\n",
    "train_accuracyc = accuracy_score(y_train, y_train_predc) * 100\n",
    "print(\"Training Accuracy: {:.2f}%\".format(train_accuracyc))\n",
    "\n",
    "#We make predictions on the test data\n",
    "y_test_predc = logistic_regression_classifierc.predict(X_test_counts)\n",
    "\n",
    "#Then, we evaluate performance on the test set\n",
    "test_accuracyc = accuracy_score(y_test, y_test_predc) * 100\n",
    "print(\"Test Accuracy: {:.2f}%\".format(test_accuracyc))\n",
    "\n",
    "#Finally, we print the classification report\n",
    "print(\"Classification Report:\")\n",
    "print(classification_report(y_test, y_test_predc))"
   ]
  },
  {
   "cell_type": "markdown",
   "id": "cfffc52c-e2f6-45ef-8058-8435467080c1",
   "metadata": {},
   "source": [
    "##### Code explanation:\n",
    "\n",
    "The above code is identical to the one used in Q3 for text classification using a Logistic Regression classifier. However, it includes an additional step where the logistic regression classifier is initialized with the regularization parameter C is set to 1.0 by default, as discussed in Q4a. "
   ]
  },
  {
   "cell_type": "markdown",
   "id": "c26cde87-c95a-45b3-93d3-c25ccf88e21e",
   "metadata": {},
   "source": [
    "##### Discussion: \n",
    "\n",
    "The above results provide insights into the performance of our Logistic Regression with CountVectorizer and the Regularization C hyperparameter. We notice that with our default C value (1.0), our model achieved a training accuracy of 93.98% and a test accuracy of 89.29%.  Upon comparison with our previous implementation in Q3, we observe that the introduction of the Regularization Parameter did not significantly alter the model's performance metrics, as the training and test accuracies remained similar. Furthermore, upon examining the classification report, we find reasonably high values for precision and recall for both classes (0 and 1), with precision scores of 0.89 for class 0 and 0.90 for class 1, as well as recall scores of 0.87 for class 0 and 0.91 for class 1, respectively. Interestingly, these results closely mirror those obtained from our logistic regression model in Q3.\n",
    "\n",
    "Note 6: Please note that prior to developing the above code, we conducted an evaluation of our accuracy using different C values (0.25, 0.75 and 2.0). The results of this evaluation revealed training accuracies of 90.99%, 93.48%, and 94.90%, and test accuracies of 87.25%, 89.03%, and 89.83%, respectively, for the corresponding C values. We concluded that as the C value increases, our model's accuracy tends to improve. However, when C value is large, it indicates weak regularization. However, it is important to note that higher C values indicate weaker regularization. This means that the model places more emphasis on fitting the training data closely, which could potentially lead to lower bias but higher variance. Consequently, after considering the trade-offs between bias and variance, we have opted to use the default C value (1.0) in our logistic regression model. This decision allows to have a balance between model complexity and generalization performance, aiming to achieve robust performance on unseen data while minimizing overfitting."
   ]
  },
  {
   "cell_type": "markdown",
   "id": "f9185483-631c-4001-92ab-f2e3b11497ef",
   "metadata": {},
   "source": [
    "#### c) Report the best hyperparameter values that result in the highest accuracy."
   ]
  },
  {
   "cell_type": "markdown",
   "id": "7b85c2dd-decf-4c41-8f63-f516c2b01a00",
   "metadata": {},
   "source": [
    "Based on the above evaluation, we observed that utilizing the class weight hyperparameter resulted in higher accuracy in both training (94%) and test (89.34%) datasets. This performance was notably better compared to using the Regularization Parameter (C), which yielded similar results to our original logistic regression model with CountVectorizer. Therefore, we concluded that incorporating the class weight hyperparameter is essential for our final model due to its overall superior training and test accuracy. This enhancement is particularly crucial given the imbalance in our dataset, where positive reviews outnumber negative reviews. This ensures equitable consideration of all classes during training, leading to improved accuracy, precision, recall, and F1-score, especially for the minority class. By adjusting class weights based on the class frequencies in the training data, the model's predictive capability is significantly enhanced."
   ]
  },
  {
   "cell_type": "markdown",
   "id": "3617fa20-3048-4417-80f4-f7a092300fb0",
   "metadata": {},
   "source": [
    "## V - Model deployment (20 marks)."
   ]
  },
  {
   "cell_type": "markdown",
   "id": "7471180e-e86d-46dc-a4d3-7d0cf71f7c16",
   "metadata": {},
   "source": [
    "#### a) Deploy the model that achieved the best accuracy to an evaluation data set so that it can be used to predict the sentiment of reviews in real time. "
   ]
  },
  {
   "cell_type": "markdown",
   "id": "5643aa5b-ac74-4c0e-8a91-18797eb825f4",
   "metadata": {},
   "source": [
    "Before deploying the model that achieved the best accuracy to an evaluation dataset, we first save it."
   ]
  },
  {
   "cell_type": "code",
   "execution_count": 26,
   "id": "cc2dcaaf-c3f0-40e9-b307-fc361e569276",
   "metadata": {
    "tags": []
   },
   "outputs": [
    {
     "name": "stdout",
     "output_type": "stream",
     "text": [
      "Best model saved successfully with accuracy: 94.00%\n"
     ]
    }
   ],
   "source": [
    "#We first convert text data into numerical feature vectors using CountVectorizer\n",
    "X_train_transformed = vectorizer_lr.fit_transform(X_train)\n",
    "\n",
    "#We initialize the best model (already known)\n",
    "best_model = logistic_regression_classifiercw\n",
    "\n",
    "#We fit the best model\n",
    "best_model.fit(X_train_transformed, y_train)\n",
    "\n",
    "#We save the accuracy along with the best model\n",
    "accuracy = best_model.score(X_train_transformed, y_train) * 100\n",
    "\n",
    "best_model_with_accuracy = {\n",
    "    'model': best_model,\n",
    "    'accuracy': accuracy\n",
    "}\n",
    "\n",
    "#Finally, we save the best model along with its accuracy\n",
    "best_model_path = \"best_model_with_accuracy.pkl\"\n",
    "with open(best_model_path, \"wb\") as model_file:\n",
    "    pickle.dump(best_model_with_accuracy, model_file)\n",
    "\n",
    "print(\"Best model saved successfully with accuracy: {:.2f}%\".format(accuracy))"
   ]
  },
  {
   "cell_type": "markdown",
   "id": "79b09a3c-2b0a-4ec2-b26e-0e7c535a88ad",
   "metadata": {},
   "source": [
    "##### Code explanation: \n",
    "\n",
    "The above code aims to save our model that achieved the best accuracy. It first converts text data into numerical feature vectors using CountVectorizer, then it initializes the best model, which is already known, as the logistic regression classifier with balanced class weights. Once done, it fits the best model on the transformed training data, calculates its accuracy, and save both as a dictionary containing the model itself and its accuracy. Finally, it saves the latter dictionary to a file using pickle and prints a message confirming that the best model has been successfully saved along with its accuracy."
   ]
  },
  {
   "cell_type": "markdown",
   "id": "ad068d52-5b28-4358-b743-6f30d29b49e3",
   "metadata": {},
   "source": [
    "##### Discussion: \n",
    "\n",
    "Our best model has been successfully saved with an accuracy of 94.00%, which matches the accuracy previously found in Q4. Now that it is saved, we will proceed to deploy it on a new dataset named \"dev.csv\" for real-time sentiment prediction of movie reviews."
   ]
  },
  {
   "cell_type": "code",
   "execution_count": 27,
   "id": "36adfe42-1bfb-4ef5-b940-277d24470914",
   "metadata": {
    "tags": []
   },
   "outputs": [
    {
     "name": "stdout",
     "output_type": "stream",
     "text": [
      "Validation Accuracy: 81.08%\n",
      "Predictions added to dev dataset and saved to: dev_with_predictions.csv\n"
     ]
    }
   ],
   "source": [
    "#We assume 'sentence' column contains the text data and 'label' column contains the labels\n",
    "X_dev = dev_df['sentence'].tolist()\n",
    "y_dev = dev_df['label'].tolist()\n",
    "\n",
    "#We load the best model\n",
    "best_model_path = \"best_model_with_accuracy.pkl\"\n",
    "with open(best_model_path, \"rb\") as model_file:\n",
    "    best_model_with_accuracy = pickle.load(model_file)\n",
    "\n",
    "best_model = best_model_with_accuracy['model']\n",
    "\n",
    "#We then transform validation data using the same CountVectorizer\n",
    "X_dev_transformed = vectorizer_lr.transform(X_dev)\n",
    "\n",
    "#We predict the sentiment of reviews in real-time\n",
    "predictions = best_model.predict(X_dev_transformed)\n",
    "\n",
    "#We calculate our validation accuracy\n",
    "validation_accuracy = accuracy_score(y_dev, predictions) * 100\n",
    "print(\"Validation Accuracy: {:.2f}%\".format(validation_accuracy))\n",
    "\n",
    "#We add predictions to the dev dataset\n",
    "dev_df['predicted_label'] = predictions\n",
    "\n",
    "#Finally, we save the dev dataset with predictions\n",
    "dev_df_with_predictions_path = \"dev_with_predictions.csv\"\n",
    "dev_df.to_csv(dev_df_with_predictions_path, index=False)\n",
    "\n",
    "print(\"Predictions added to dev dataset and saved to:\", dev_df_with_predictions_path)\n"
   ]
  },
  {
   "cell_type": "markdown",
   "id": "d4500483-0eb3-4c35-a7f1-fa8136bd832b",
   "metadata": {},
   "source": [
    "##### Code explanation: \n",
    "\n",
    "The above code aims to apply our pre-trained model to predict the sentiment of movie reviews in real-time on our evaluation dataset \"dev.csv\" To do that, our code assumes that the 'sentence' column in the dev_df dataframe contains the text data (movie reviews), and the 'label' column contains the corresponding labels (please refer to Q1). Then, it extracts the 'sentence' column as input features (X_dev) and the 'label' column as target labels (y_dev) from the validation dataset. Once done, it loads our best model, along with its accuracy, from the \"best_model_with_accuracy.pkl\" file using pickle and transforms the text data (X_dev) using the same CountVectorizer that was used during training to predict the sentiment of reviews in real-time based on the transformed validation data (dev_df). Subsequently, it calculates the accuracy of the predictions compared to the actual labels in the validation dataset using the accuracy_score function from sklearn.metrics. Finally, it adds the predicted labels as a new column ('predicted_label') to the original dev_df DataFrame, saves the modified dev_data DataFrame, now including predictions, to a new CSV file named \"dev_with_predictions.csv\", prints the validation accuracy and confirms the file path where the dataset with predictions has been saved."
   ]
  },
  {
   "cell_type": "markdown",
   "id": "37ba9ec0-df47-45d9-acb4-ee2c107284f8",
   "metadata": {},
   "source": [
    "##### Discussion: \n",
    "\n",
    "A validation accuracy of 81.08% signifies that our model correctly predicted the sentiment (positive or negative) for the majority of reviews in our validation dataset (dev.csv). This indicates a strong performance on the validation data, suggesting that the model has effectively learned patterns from the training data and can generalize well to new, unseen text samples. It implies that the model is effective in discerning between positive and negative sentiments in movie reviews.\n",
    "However, it is essential to contextualize our validation accuracy. To do that, we separately calculated a baseline accuracy for our prediction model, resulting in a baseline accuracy of 50.92%. Comparing our model's accuracy to this baseline is insightful. Indeed, in our case, our model's accuracy significantly exceeds the baseline accuracy, which suggests that our model is learning meaningful patterns beyond random chance."
   ]
  },
  {
   "cell_type": "markdown",
   "id": "db2ce2c6-1d4a-4f29-8d69-2b947f629183",
   "metadata": {},
   "source": [
    "#### b) Discuss the ethical implications of your solution, the scientific integrity of your design, and potential unintended consequences of your analysis more broadly. "
   ]
  },
  {
   "cell_type": "markdown",
   "id": "2dbc2e16-aa87-4860-b853-35268a2e25fa",
   "metadata": {},
   "source": [
    "Despite achieving high accuracy on our evaluation dataset, it is crucial to maintain scientific integrity. Ensuring the integrity of sentiment analysis models involves utilizing balanced and diverse datasets of movie reviews. This entails curating datasets that encompass various genres, demographics, and cultural backgrounds to enhance the model's robustness and generalizability. Additionally, the labels assigned to movie reviews should accurately reflect the sentiments expressed in the text. Solely relying on automated sentiment analysis without human oversight can lead to erroneous conclusions, particularly in complex or nuanced scenarios, potentially causing users to misinterpret the sentiment analysis results and misjudge the content of movie reviews. Conversely, human annotators may introduce subjectivity or inconsistency, emphasizing the importance of validation and quality control measures in dataset annotation.\n",
    "\n",
    "Moreover, movie reviews often encapsulate personal opinions and sentiments, necessitating responsible data handling to ensure individuals' privacy rights are respected. Users should be informed about how their data is utilized for sentiment analysis, along with transparency regarding the model's limitations, biases, and potential inaccuracies.\n",
    "\n",
    "Furthermore, sentiment analysis models trained on biased reviews may perpetuate stereotypes or reinforce unequal representations in the film industry. It is crucial to ensure that sentiment analysis models do not exhibit bias towards certain groups or demographics, as biased models can lead to unfair treatment or discrimination. Additionally, biased sentiment analysis may favor mainstream or popular films over independent productions, contributing to homogeneity in the film industry and limiting opportunities for underrepresented filmmakers or genres. Cultural nuances and context in movie reviews must be considered to prevent misclassification and uphold the analysis's credibility. Indeed, sentiment analysis algorithms are frequently employed in recommendation systems to suggest movies to users. Biased or inaccurate sentiment analysis may result in skewed recommendations, restricting users' exposure to diverse perspectives or genres. If sentiment analysis algorithms have the potential to influence users' movie choices or perceptions, they may inadvertently shape audience preferences and cultural norms, impacting film consumption patterns and audience reception of diverse cinematic experiences. Negative reviews can also significantly impact filmmakers' careers and movie sales; thus, ethical sentiment analysis should provide fair and constructive feedback while avoiding unwarranted criticism or defamation.\n",
    "\n",
    "To address these concerns, regular audits and bias assessments of sentiment analysis models are essential to identify and rectify biases or inaccuracies. Implementing mechanisms for user feedback and oversight can help in correcting errors and enhancing the model's performance over time. Moreover, providing clear explanations of how the sentiment analysis system operates, including its limitations and potential biases, is crucial. Finally, considering the broader societal and cultural contexts in which the sentiment analysis model operates and adapting the approach accordingly is imperative.\n",
    "\n",
    "To conclude, ethical sentiment analysis of movie reviews requires careful consideration of biases, data quality, and potential consequences on filmmakers, audiences, and industry dynamics. By prioritizing fairness, transparency, and cultural sensitivity, sentiment analysis can contribute positively to film criticism, audience engagement, and the broader cultural discourse surrounding cinema."
   ]
  },
  {
   "cell_type": "markdown",
   "id": "31d29c83-3e5a-48ac-ab0f-72369bf212c8",
   "metadata": {},
   "source": [
    "### References: "
   ]
  },
  {
   "cell_type": "markdown",
   "id": "23202fb9-890a-4359-9ce8-c554a04863f6",
   "metadata": {},
   "source": [
    "1) Avila, J. (2023) Regularization: Pros and cons., LinkedIn. Available at: https://www.linkedin.com/pulse/regularization-pros-cons-johanna-avila (Accessed: 12 April 2024).\n",
    "\n",
    "2) Bele, R. (2023) Naive Bayes theorem in machine learning, LinkedIn. Available at: https://www.linkedin.com/pulse/naive-bayes-theorem-machine-learning-rohit-bele#:~:text=It%20is%20computationally%20efficient%2C%20making,it%20effective%20for%20text%20classification.&text=Despite%20its%20advantages%2C%20the%20Naive,hold%20true%20in%20all%20scenarios. (Accessed: 12 April 2024).\n",
    "\n",
    "3) Bengfort, B., Bilbro, R. and Ojeda, T. (no date) Applied text analysis with python, O’Reilly Online Learning. Available at: https://www.oreilly.com/library/view/applied-text-analysis/9781491963036/ch04.html (Accessed: 12 April 2024).\n",
    "\n",
    "4) Bhor, Y. (2024) Guide for building an end-to-end logistic regression model, Analytics Vidhya. Available at: https://www.analyticsvidhya.com/blog/2021/09/guide-for-building-an-end-to-end-logistic-regression-model/ (Accessed: 12 April 2024).\n",
    "\n",
    "5) Brownlee, J. (2020) Tune hyperparameters for Classification Machine Learning Algorithms, MachineLearningMastery.com. Available at: https://machinelearningmastery.com/hyperparameters-for-classification-machine-learning-algorithms/ (Accessed: 12 April 2024).\n",
    "\n",
    "6) Canuma, P. (2023) How to deal with imbalanced classification and Regression Data, neptune.ai. Available at: https://neptune.ai/blog/how-to-deal-with-imbalanced-classification-and-regression-data (Accessed: 12 April 2024).\n",
    "\n",
    "7) Ganesan, K. (2020) Hashingvectorizer vs. Countvectorizer, Kavita Ganesan, PhD. Available at: https://kavita-ganesan.com/hashingvectorizer-vs-countvectorizer/#:~:text=Scikit%2Dlearn’s%20CountVectorizer%20is%20used,feature%20representation%20module%20for%20text. (Accessed: 12 April 2024).\n",
    "\n",
    "8) GfG (2022) Using countvectorizer to extracting features from text, GeeksforGeeks. Available at: https://www.geeksforgeeks.org/using-countvectorizer-to-extracting-features-from-text/ (Accessed: 12 April 2024).\n",
    "\n",
    "9) GfG (2023) Advantages and disadvantages of logistic regression, GeeksforGeeks. Available at: https://www.geeksforgeeks.org/advantages-and-disadvantages-of-logistic-regression/ (Accessed: 12 April 2024).\n",
    "\n",
    "10) Hyperskill (n.d) TF-IDF: Count-based text representations: Text representation: NLP: Data science: Computer science. Available at: https://hyperskill.org/learn/step/31428 (Accessed: 12 April 2024).\n",
    "\n",
    "11) javatpoint (no date) Logistic regression in machine learning - www.javatpoint.com. Available at: https://www.javatpoint.com/logistic-regression-in-machine-learning (Accessed: 12 April 2024).\n",
    "\n",
    "12) Kaggle (no date) Advantages and disadvantages of logistic regression.. Available at: https://www.kaggle.com/discussions/general/352871 (Accessed: 12 April 2024).\n",
    "\n",
    "13) KDnuggets (no date). WTF is regularization and what is it for? Available at: https://www.kdnuggets.com/wtf-is-regularization-and-what-is-it-for#:~:text=As%20C%20increases%20to%200.01,learn%20better%20from%20the%20data. (Accessed: 12 April 2024).\n",
    "\n",
    "14) Matplotlib documentation (2024) Pyplot tutorial. Available at: https://matplotlib.org/2.0.2/users/pyplot_tutorial.html (Accessed: 29 February 2024).\n",
    "\n",
    "15) Ninja, N. (2024) TF-IDF: Weighing importance in text, Let’s Data Science. Available at: https://letsdatascience.com/tf-idf/ (Accessed: 12 April 2024).\n",
    "\n",
    "16) Otten, N.V. (2023) TF-IDF made simple & how to get started in python tutorial, Spot Intelligence. Available at: https://spotintelligence.com/2022/11/28/tf-idf/ (Accessed: 12 April 2024).\n",
    "\n",
    "17) Pandas documentation (2024) Pandas.dataframe.replace#. Available at: https://pandas.pydata.org/pandas-docs/stable/reference/api/pandas.DataFrame.replace.html (Accessed: 29 February 2024).\n",
    "\n",
    "18) Person (2021) Understanding TF-IDF for Machine Learning, Capital One. Available at: https://www.capitalone.com/tech/machine-learning/understanding-tf-idf/ (Accessed: 12 April 2024).\n",
    "\n",
    "19) Python documentation (2024) CSV - csv file reading and writing . Available at: https://docs.python.org/3/library/csv.html (Accessed: 29 February 2024).\n",
    "\n",
    "20) Python documentation (2024) How to fetch internet resources using the urllib package. Available at: https://docs.python.org/3/howto/urllib2.html (Accessed: 29 February 2024).\n",
    "\n",
    "21) Python documentation (2024) OS - miscellaneous operating system interfaces . Available at: https://docs.python.org/3/library/os.html (Accessed: 29 February 2024).\n",
    "\n",
    "22) Python documentation (2024) Pickle - python object serialization. Available at: https://docs.python.org/3/library/pickle.html (Accessed: 12 April 2024). \n",
    "\n",
    "23) Python documentation (2024) Statistics - mathematical statistics functions. Available at: https://docs.python.org/3/library/statistics.html (Accessed: 29 February 2024).\n",
    "\n",
    "24) Python documentation (2024) Time - Time Access and conversions. Available at: https://docs.python.org/3/library/time.html (Accessed: 29 February 2024).\n",
    "\n",
    "25) Ray, S. (2024) Naive Bayes classifier explained: Applications and practice problems of naive Bayes classifier, Analytics Vidhya. Available at: https://www.analyticsvidhya.com/blog/2017/09/naive-bayes-explained/ (Accessed: 12 April 2024).\n",
    "\n",
    "26) Real Python (2023) Python’s zipfile: Manipulate your zip files efficiently, Real Python. Available at: https://realpython.com/python-zipfile/ (Accessed: 12 April 2024).\n",
    "\n",
    "27) RE (2024) - regular expression operations (no date) Python documentation. Available at: https://docs.python.org/3/library/re.html (Accessed: 12 April 2024).\n",
    "\n",
    "\n",
    "28) scikit (2024) Sklearn.feature_extraction.text.CountVectorizer. Available at: https://scikit-learn.org/stable/modules/generated/sklearn.feature_extraction.text.CountVectorizer.html (Accessed: 12 April 2024).\n",
    "\n",
    "29) scikit (2024) Sklearn.feature_extraction.text.TfidfVectorizer. Available at: https://scikit-learn.org/stable/modules/generated/sklearn.feature_extraction.text.TfidfVectorizer.html (Accessed: 12 April 2024).\n",
    "\n",
    "30) scikit (2024) Sklearn.linear_model.logisticregression. Available at: https://scikit-learn.org/stable/modules/generated/sklearn.linear_model.LogisticRegression.html (Accessed: 12 April 2024).\n",
    "\n",
    "31) scikit (2024) Sklearn.metrics.accuracy_score. Available at: https://scikit-learn.org/stable/modules/generated/sklearn.metrics.accuracy_score.html (Accessed: 12 April 2024).\n",
    "\n",
    "32) scikit (2024) Sklearn.metrics.classification_report. Available at: https://scikit-learn.org/stable/modules/generated/sklearn.metrics.classification_report.html (Accessed: 12 April 2024).\n",
    "\n",
    "33) scikit (2024) Sklearn.model_selection.train_test_split. Available at: https://scikit-learn.org/stable/modules/generated/sklearn.model_selection.train_test_split.html (Accessed: 12 April 2024).\n",
    "\n",
    "34) scikit (2024) Sklearn.naive_bayes.multinomialnb. Available at: https://scikit-learn.org/stable/modules/generated/sklearn.naive_bayes.MultinomialNB.html (Accessed: 12 April 2024).\n",
    "\n",
    "35) scikit (2024) 1.1. Linear Models. Available at: https://scikit-learn.org/stable/modules/linear_model.html (Accessed: 12 April 2024).\n",
    "\n",
    "36) Seaborn documentation (2024) An introduction to seaborn. Available at: https://seaborn.pydata.org/tutorial/introduction.html (Accessed: 29 February 2024). \n",
    "\n",
    "37) SitePoint (2024) Making HTTP requests in Node.js. Available at: https://www.sitepoint.com/making-http-requests-in-node-js/ (Accessed: 12 April 2024).\n",
    "\n",
    "38) TensorFlow (no date) Classification on imbalanced data  :  Tensorflow Core. Available at: https://www.tensorflow.org/tutorials/structured_data/imbalanced_data (Accessed: 12 April 2024).\n",
    "\n",
    "39) Turing (2022) Naive Bayes algorithm in ML: Simplifying classification problems, Naive Bayes Algorithm in ML: Simplifying Classification Problems. Available at: https://www.turing.com/kb/an-introduction-to-naive-bayes-algorithm-for-beginners (Accessed: 12 April 2024). \n",
    "\n",
    "40) upGrad blog (no date)  Naive Bayes explained: Function, Advantages & disadvantages, applications in 2023. Available at: https://www.upgrad.com/blog/naive-bayes-explained/ (Accessed: 12 April 2024). \n",
    "\n",
    "41) W3 School (2024) Pandas Getting Started. Available at: https://www.w3schools.com/python/pandas/pandas_getting_started.asp (Accessed: 29 February 2024). \n",
    "\n",
    "42) W3 School (2024) NumPy getting started. Available at: https://www.w3schools.com/python/numpy/numpy_getting_started.asp (Accessed: 29 February 2024). \n"
   ]
  }
 ],
 "metadata": {
  "kernelspec": {
   "display_name": "Python 3 (ipykernel)",
   "language": "python",
   "name": "python3"
  },
  "language_info": {
   "codemirror_mode": {
    "name": "ipython",
    "version": 3
   },
   "file_extension": ".py",
   "mimetype": "text/x-python",
   "name": "python",
   "nbconvert_exporter": "python",
   "pygments_lexer": "ipython3",
   "version": "3.11.5"
  }
 },
 "nbformat": 4,
 "nbformat_minor": 5
}
